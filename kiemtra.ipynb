{
 "cells": [
  {
   "cell_type": "markdown",
   "metadata": {},
   "source": [
    "####  Câu1:Phép toán cơ bản trên vector và ma trận"
   ]
  },
  {
   "cell_type": "code",
   "execution_count": 2,
   "metadata": {},
   "outputs": [
    {
     "name": "stdout",
     "output_type": "stream",
     "text": [
      "a) Kết quả:\n",
      "A + B = [2 3 1 6]\n",
      "2A + 3B = [ 3 11  2 14]\n"
     ]
    }
   ],
   "source": [
    "# Phần a: Tính tổng A + B và 2A + 3B\n",
    "import numpy as np\n",
    "\n",
    "A = np.array([3, -2, 1, 4])\n",
    "B = np.array([-1, 5, 0, 2])\n",
    "\n",
    "sum_AB = A + B\n",
    "linear_comb = 2*A + 3*B\n",
    "\n",
    "print(\"a) Kết quả:\")\n",
    "print(\"A + B =\", sum_AB)\n",
    "print(\"2A + 3B =\", linear_comb)"
   ]
  },
  {
   "cell_type": "code",
   "execution_count": 3,
   "metadata": {},
   "outputs": [
    {
     "name": "stdout",
     "output_type": "stream",
     "text": [
      "b) Kết quả:\n",
      "A · B = -5\n",
      "Góc giữa A và B = 99.594°\n"
     ]
    }
   ],
   "source": [
    "# b: Tính tích vô hướng và góc giữa A và B\n",
    "import numpy as np\n",
    "from numpy.linalg import norm\n",
    "import math\n",
    "\n",
    "A = np.array([3, -2, 1, 4])\n",
    "B = np.array([-1, 5, 0, 2])\n",
    "\n",
    "dot_product = np.dot(A, B)\n",
    "cos_theta = dot_product / (norm(A) * norm(B))\n",
    "angle_deg = math.degrees(math.acos(cos_theta))\n",
    "\n",
    "print(\"b) Kết quả:\")\n",
    "print(\"A · B =\", dot_product)\n",
    "print(f\"Góc giữa A và B = {angle_deg:.3f}°\")"
   ]
  },
  {
   "cell_type": "code",
   "execution_count": 4,
   "metadata": {},
   "outputs": [
    {
     "name": "stdout",
     "output_type": "stream",
     "text": [
      "c) Kết quả:\n",
      "CC^T =\n",
      "[[14 -8 13]\n",
      " [-8 21 -2]\n",
      " [13 -2 29]]\n"
     ]
    }
   ],
   "source": [
    "# c: Tính CC^T\n",
    "import numpy as np\n",
    "\n",
    "C = np.array([[2, -1, 3],\n",
    "              [1, 4, -2],\n",
    "              [0, 2, 5]])\n",
    "\n",
    "C_transpose = C.T\n",
    "CC_transpose = np.dot(C, C_transpose)\n",
    "\n",
    "print(\"c) Kết quả:\")\n",
    "print(\"CC^T =\")\n",
    "print(CC_transpose)"
   ]
  },
  {
   "cell_type": "markdown",
   "metadata": {},
   "source": [
    "#### Câu2: Nhân ma trận,định thức và hạng ma trận"
   ]
  },
  {
   "cell_type": "code",
   "execution_count": 5,
   "metadata": {},
   "outputs": [
    {
     "name": "stdout",
     "output_type": "stream",
     "text": [
      "a) Tích ma trận M × N:\n",
      "[[ -2  13   0  -5]\n",
      " [  2   0  12  30]\n",
      " [ 17   7  28 -14]\n",
      " [-13   3   5  15]]\n",
      "\n",
      "b) Định thức của M:\n",
      "409.00 (Ma trận khả nghịch vì det ≠ 0)\n",
      "\n",
      "c) Hạng của ma trận N: 4\n"
     ]
    }
   ],
   "source": [
    "import numpy as np\n",
    "M = np.array([\n",
    "    [2, -1, 3, 0],\n",
    "    [1, 4, -2, 5],\n",
    "    [0, 2, 6, -3],\n",
    "    [-1, 0, 1, 4]\n",
    "])\n",
    "\n",
    "N = np.array([\n",
    "    [1, 3, -2, 0],\n",
    "    [4, -1, 5, 2],\n",
    "    [0, 2, 3, -1],\n",
    "    [-3, 1, 0, 4]\n",
    "])\n",
    "\n",
    "# a) Tính tích M × N \n",
    "MN = np.dot(M, N)\n",
    "print(\"a) Tích ma trận M × N:\")\n",
    "print(MN)\n",
    "\n",
    "# b) Tính định thức của M \n",
    "det_M = np.linalg.det(M)\n",
    "print(\"\\nb) Định thức của M:\")\n",
    "if np.isfinite(det_M):\n",
    "    print(f\"{det_M:.2f} (Ma trận khả nghịch vì det ≠ 0)\")\n",
    "else:\n",
    "    print(\"0 (Ma trận không khả nghịch)\")\n",
    "\n",
    "# c) Tính hạng của N \n",
    "rank_N = np.linalg.matrix_rank(N)\n",
    "print(f\"\\nc) Hạng của ma trận N: {rank_N}\")"
   ]
  },
  {
   "cell_type": "markdown",
   "metadata": {},
   "source": [
    "#### Câu3: Nghịch đảo ma trận và giải hệ phương trìnhh\n"
   ]
  },
  {
   "cell_type": "code",
   "execution_count": 7,
   "metadata": {},
   "outputs": [
    {
     "name": "stdout",
     "output_type": "stream",
     "text": [
      "a) Ma trận nghịch đảo của P:\n",
      "[[ 0.5     0.1     0.1    -0.3   ]\n",
      " [-0.1429  0.2     0.0571  0.1143]\n",
      " [-0.0357 -0.05    0.1643  0.0786]\n",
      " [-0.3214 -0.05   -0.1214  0.5071]]\n",
      "\n",
      "b) Nghiệm của hệ phương trình [x, y, z, w]:\n",
      "[2.     1.7143 0.4286 0.8571]\n",
      "\n",
      "c) Kiểm tra nghiệm (P × x):\n",
      "[6. 8. 3. 7.]\n",
      "Vector hằng số b: [6 8 3 7]\n",
      "Kết quả khớp: True\n"
     ]
    }
   ],
   "source": [
    "import numpy as np\n",
    "P = np.array([\n",
    "    [3, -1, 0, 2],\n",
    "    [1, 4, -2, 0],\n",
    "    [0, 1, 5, -1],\n",
    "    [2, 0, 1, 3]\n",
    "])\n",
    "b = np.array([6, 8, 3, 7])  \n",
    "\n",
    "# a) Tìm ma trận nghịch đảo của P \n",
    "try:\n",
    "    P_inv = np.linalg.inv(P)\n",
    "    print(\"a) Ma trận nghịch đảo của P:\")\n",
    "    print(np.round(P_inv, 4))  # Làm tròn 4 chữ số thập phân\n",
    "except np.linalg.LinAlgError:\n",
    "    print(\"a) Ma trận P không khả nghịch do định thức bằng 0\")\n",
    "\n",
    "# b) Giải hệ phương trình bằng nghịch đảo ma trận \n",
    "if 'P_inv' in locals():\n",
    "    x = np.dot(P_inv, b)\n",
    "    print(\"\\nb) Nghiệm của hệ phương trình [x, y, z, w]:\")\n",
    "    print(np.round(x, 4))\n",
    "else:\n",
    "    print(\"\\nb) Không thể giải hệ do ma trận P không khả nghịch\")\n",
    "\n",
    "# c) Kiểm tra nghiệmm\n",
    "if 'x' in locals():\n",
    "    check = np.dot(P, x)\n",
    "    print(\"\\nc) Kiểm tra nghiệm (P × x):\")\n",
    "    print(np.round(check, 4))\n",
    "    print(\"Vector hằng số b:\", b)\n",
    "    print(\"Kết quả khớp:\", np.allclose(check, b, atol=1e-4))\n",
    "else:\n",
    "    print(\"\\nc) Không thể kiểm tra nghiệm do không có nghiệm\")"
   ]
  },
  {
   "cell_type": "markdown",
   "metadata": {},
   "source": [
    "####  Câu4: Giá trị riêng,vector riêng và chuẩn hóa"
   ]
  },
  {
   "cell_type": "code",
   "execution_count": null,
   "metadata": {},
   "outputs": [
    {
     "name": "stdout",
     "output_type": "stream",
     "text": [
      "a) Các giá trị riêng của Q:\n",
      "[6.3553+0.j     2.8223+1.0773j 2.8223-1.0773j]\n",
      "\n",
      "b) Các vector riêng tương ứng (chưa chuẩn hóa):\n",
      "λ = (6.3553+0j): [ 0.7485+0.j -0.1894+0.j  0.6356+0.j]\n",
      "λ = (2.8223+1.0773j): [-0.3742+0.3423j  0.0947+0.5743j  0.6356+0.j    ]\n",
      "λ = (2.8223-1.0773j): [-0.3742-0.3423j  0.0947-0.5743j  0.6356-0.j    ]\n",
      "\n",
      "c) Các vector riêng đã chuẩn hóa:\n",
      "λ = (6.3553+0j): [ 0.7485+0.j -0.1894+0.j  0.6356+0.j]\n",
      "λ = (2.8223+1.0773j): [-0.3742+0.3423j  0.0947+0.5743j  0.6356+0.j    ]\n",
      "λ = (2.8223-1.0773j): [-0.3742-0.3423j  0.0947-0.5743j  0.6356-0.j    ]\n"
     ]
    }
   ],
   "source": [
    "import numpy as np\n",
    "\n",
    "# Định nghĩa ma trận Q\n",
    "Q = np.array([\n",
    "    [5, -2, 1],\n",
    "    [0, 3, -1],\n",
    "    [2, 0, 4]\n",
    "])\n",
    "\n",
    "#  a) Tìm giá trị riêng ---\n",
    "eigenvalues = np.linalg.eigvals(Q)\n",
    "print(\"a) Các giá trị riêng của Q:\")\n",
    "print(np.round(eigenvalues, 4))\n",
    "\n",
    "# b) Tìm vector riêng ---\n",
    "eigenvalues, eigenvectors = np.linalg.eig(Q)\n",
    "print(\"\\nb) Các vector riêng tương ứng (chưa chuẩn hóa):\")\n",
    "for i in range(len(eigenvalues)):\n",
    "    print(f\"λ = {np.round(eigenvalues[i], 4)}: {np.round(eigenvectors[:, i], 4)}\")\n",
    "\n",
    "# c) Chuẩn hóa vector riêng (độ dài bằng 1) ---\n",
    "normalized_eigenvectors = eigenvectors / np.linalg.norm(eigenvectors, axis=0)\n",
    "print(\"\\nc) Các vector riêng đã chuẩn hóa:\")\n",
    "for i in range(len(eigenvalues)):\n",
    "    print(f\"λ = {np.round(eigenvalues[i], 4)}: {np.round(normalized_eigenvectors[:, i], 4)}\")"
   ]
  },
  {
   "cell_type": "markdown",
   "metadata": {},
   "source": [
    "#### Câu 5 Ứng dụng thực tế-Hệ phương trình và phân tích"
   ]
  },
  {
   "cell_type": "code",
   "execution_count": 13,
   "metadata": {},
   "outputs": [
    {
     "name": "stdout",
     "output_type": "stream",
     "text": [
      "a) Nghiệm hệ phương trình (dùng np.linalg.solve()):\n",
      "[2.7882 1.5294 1.1882]\n",
      "\n",
      "b) Ma trận R khả nghịch. Định thức = 85.0\n",
      "Ma trận nghịch đảo R⁻¹:\n",
      "[[ 0.2235  0.1059 -0.0471]\n",
      " [-0.0588  0.2353  0.1176]\n",
      " [ 0.0235 -0.0941  0.1529]]\n",
      "Nghiệm dùng R⁻¹: [2.7882 1.5294 1.1882]\n",
      "So sánh nghiệm: Hai nghiệm trùng khớp? True\n",
      "\n",
      "c) Chuẩn Frobenius của R: 8.0\n"
     ]
    }
   ],
   "source": [
    "import numpy as np\n",
    "\n",
    "# Định nghĩa ma trận R và vector b\n",
    "R = np.array([\n",
    "    [4, -1, 2],\n",
    "    [1, 3, -2],\n",
    "    [0, 2, 5]\n",
    "])\n",
    "b = np.array([12, 5, 9])\n",
    "\n",
    "# a) Giải hệ Rx = b bằng np.linalg.solve() ---\n",
    "try:\n",
    "    x_solve = np.linalg.solve(R, b)\n",
    "    print(\"a) Nghiệm hệ phương trình (dùng np.linalg.solve()):\")\n",
    "    print(np.round(x_solve, 4))\n",
    "except np.linalg.LinAlgError:\n",
    "    print(\"a) Hệ vô nghiệm hoặc vô số nghiệm do ma trận không khả nghịch\")\n",
    "\n",
    "# b) Kiểm tra khả nghịch và giải bằng nghịch đảo ---\n",
    "det_R = np.linalg.det(R)\n",
    "if not np.isclose(det_R, 0):\n",
    "    R_inv = np.linalg.inv(R)\n",
    "    x_inv = np.dot(R_inv, b)\n",
    "    print(\"\\nb) Ma trận R khả nghịch. Định thức =\", np.round(det_R, 4))\n",
    "    print(\"Ma trận nghịch đảo R⁻¹:\")\n",
    "    print(np.round(R_inv, 4))\n",
    "    print(\"Nghiệm dùng R⁻¹:\", np.round(x_inv, 4))\n",
    "    print(\"So sánh nghiệm: Hai nghiệm trùng khớp?\", np.allclose(x_solve, x_inv, atol=1e-6))\n",
    "else:\n",
    "    print(\"\\nb) Ma trận R không khả nghịch do định thức = 0\")\n",
    "\n",
    "#  c) Tính chuẩn Frobenius của R ---\n",
    "frobenius_norm = np.linalg.norm(R, 'fro')\n",
    "print(\"\\nc) Chuẩn Frobenius của R:\", np.round(frobenius_norm, 4))"
   ]
  }
 ],
 "metadata": {
  "kernelspec": {
   "display_name": "Python 3",
   "language": "python",
   "name": "python3"
  },
  "language_info": {
   "codemirror_mode": {
    "name": "ipython",
    "version": 3
   },
   "file_extension": ".py",
   "mimetype": "text/x-python",
   "name": "python",
   "nbconvert_exporter": "python",
   "pygments_lexer": "ipython3",
   "version": "3.10.11"
  }
 },
 "nbformat": 4,
 "nbformat_minor": 2
}
