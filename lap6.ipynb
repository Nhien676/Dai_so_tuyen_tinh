{
 "cells": [
  {
   "cell_type": "code",
   "execution_count": 1,
   "metadata": {},
   "outputs": [
    {
     "name": "stdout",
     "output_type": "stream",
     "text": [
      "Requirement already satisfied: numpy in c:\\users\\admin\\appdata\\local\\packages\\pythonsoftwarefoundation.python.3.10_qbz5n2kfra8p0\\localcache\\local-packages\\python310\\site-packages (1.24.3)\n"
     ]
    },
    {
     "name": "stderr",
     "output_type": "stream",
     "text": [
      "\n",
      "[notice] A new release of pip is available: 23.2.1 -> 25.1.1\n",
      "[notice] To update, run: C:\\Users\\Admin\\AppData\\Local\\Microsoft\\WindowsApps\\PythonSoftwareFoundation.Python.3.10_qbz5n2kfra8p0\\python.exe -m pip install --upgrade pip\n"
     ]
    }
   ],
   "source": [
    "!pip install numpy "
   ]
  },
  {
   "cell_type": "markdown",
   "metadata": {},
   "source": []
  },
  {
   "cell_type": "markdown",
   "metadata": {},
   "source": [
    "### CHƯƠNG 6: CÁC KHÁI NIỆM: KHÔNG GIAN VECTOR,TÍCH TRONG VÀ TRỊ RIÊNG, VECTOR RIÊNG "
   ]
  },
  {
   "cell_type": "markdown",
   "metadata": {},
   "source": [
    "### 1. Khái niệm về không gian vector và tích trong"
   ]
  },
  {
   "cell_type": "markdown",
   "metadata": {},
   "source": [
    "#### 1.1 tóm tắt lý thuyết \n"
   ]
  },
  {
   "cell_type": "markdown",
   "metadata": {},
   "source": [
    "#### 1.2 Tích vô hướng, trực giao và ứng dụng "
   ]
  },
  {
   "cell_type": "code",
   "execution_count": 2,
   "metadata": {},
   "outputs": [
    {
     "name": "stdout",
     "output_type": "stream",
     "text": [
      "Tích vô hướng bằng np.inner(a, b): 32\n",
      "Tích vô hướng bằng np.dot(a, b): 32\n",
      "Kết quả giống nhau: np.inner(a, b) == np.dot(a, b) ==  32\n"
     ]
    }
   ],
   "source": [
    "# Tích vô hướng (inner product) trong Python bằng NumPy\n",
    "\n",
    "import numpy as np\n",
    "\n",
    "# Khởi tạo hai vector một chiều\n",
    "a = np.array([1, 2, 3])\n",
    "b = np.array([4, 5, 6])\n",
    "\n",
    "# Tính tích vô hướng bằng np.inner\n",
    "tich_inner = np.inner(a, b)\n",
    "print(\"Tích vô hướng bằng np.inner(a, b):\", tich_inner)\n",
    "\n",
    "# Tính tích vô hướng bằng np.dot\n",
    "tich_dot = np.dot(a, b)\n",
    "print(\"Tích vô hướng bằng np.dot(a, b):\", tich_dot)\n",
    "\n",
    "# Kiểm tra kết quả có giống nhau không\n",
    "if tich_inner == tich_dot:\n",
    "    print(\"Kết quả giống nhau: np.inner(a, b) == np.dot(a, b) == \", tich_inner)\n",
    "else:\n",
    "    print(\" Kết quả khác nhau!\")\n",
    "\n"
   ]
  },
  {
   "cell_type": "markdown",
   "metadata": {},
   "source": [
    "##### Độ dài/chuẩn của vector: "
   ]
  },
  {
   "cell_type": "code",
   "execution_count": 3,
   "metadata": {},
   "outputs": [
    {
     "name": "stdout",
     "output_type": "stream",
     "text": [
      "‖a‖₂ (Chuẩn 2) = 3.7416573867739413\n",
      "‖a‖₁ (Chuẩn 1) = 6.0\n",
      "✓ Tính tay chuẩn 2: sqrt(1^2 + 2^2 + (-3)^2) = sqrt(14)\n",
      "✓ Tính tay chuẩn 1: |1| + |2| + |-3| = 6\n"
     ]
    }
   ],
   "source": [
    "\n",
    "\n",
    "import numpy as n\n",
    "a = np.array([1, 2, -3])\n",
    "chuan_2 = np.linalg.norm(a)  \n",
    "print(\"‖a‖₂ (Chuẩn 2) =\", chuan_2)\n",
    "chuan_1 = np.linalg.norm(a, 1)\n",
    "print(\"‖a‖₁ (Chuẩn 1) =\", chuan_1)\n",
    "print(\"✓ Tính tay chuẩn 2: sqrt(1^2 + 2^2 + (-3)^2) = sqrt(14)\")\n",
    "print(\"✓ Tính tay chuẩn 1: |1| + |2| + |-3| = 6\")\n"
   ]
  },
  {
   "cell_type": "code",
   "execution_count": null,
   "metadata": {},
   "outputs": [
    {
     "name": "stdout",
     "output_type": "stream",
     "text": [
      "Vector a: [ 1  2 -3]\n",
      "\n",
      "--- Chuẩn bậc 1 (Manhattan Norm) ---\n",
      "chuan(a, 1): 6.0\n",
      "np.linalg.norm(a, 1): 6.0\n",
      "------------------------------\n",
      "\n",
      "--- Chuẩn bậc 2 (Euclidean Norm) ---\n",
      "chuan(a, 2): 3.7416573867739413\n",
      "np.linalg.norm(a, 2): 3.7416573867739413\n",
      "------------------------------\n",
      "\n",
      "--- Chuẩn bậc 3 ---\n",
      "chuan(a, 3): 3.3019272488946263\n",
      "np.linalg.norm(a, 3): 3.3019272488946263\n",
      "------------------------------\n",
      "\n",
      "--- Chuẩn bậc 1000 ---\n",
      "chuan(a, 1000): nan\n",
      "np.linalg.norm(a, 1000): inf\n",
      "------------------------------\n",
      "\n",
      "--- Lưu ý về lỗi có thể xảy ra ---\n",
      "Hàm chuan(vector, p) được định nghĩa như trên sẽ hoạt động tốt với p dương.\n",
      "Nếu p không hợp lệ (ví dụ: p = 0 hoặc p âm), có thể gây ra lỗi.\n",
      "------------------------------\n",
      "\n",
      "--- Sử dụng scipy.linalg.norm ---\n",
      "linalg.norm(a) (mặc định p=2): 3.7416573867739413\n",
      "linalg.norm(a, 100): 3.0\n",
      "linalg.norm(a, 1000): inf\n",
      "------------------------------\n",
      "\n"
     ]
    },
    {
     "name": "stderr",
     "output_type": "stream",
     "text": [
      "C:\\Users\\Admin\\AppData\\Local\\Temp\\ipykernel_7192\\710656131.py:17: RuntimeWarning: invalid value encountered in power\n",
      "  return np.sum(np.abs(vector)**p)**(1/p)\n",
      "C:\\Users\\Admin\\AppData\\Local\\Packages\\PythonSoftwareFoundation.Python.3.10_qbz5n2kfra8p0\\LocalCache\\local-packages\\Python310\\site-packages\\numpy\\linalg\\linalg.py:2549: RuntimeWarning: overflow encountered in power\n",
      "  absx **= ord\n"
     ]
    }
   ],
   "source": [
    "import math\n",
    "import numpy as np\n",
    "from scipy import linalg\n",
    "\n",
    "def chuan(vector, p):\n",
    "    return np.sum(np.abs(vector)**p)**(1/p)\n",
    "a = np.array([1, 2, -3])\n",
    "print(f\"Vector a: {a}\\n\")\n",
    "\n",
    "\n",
    "## Chuẩn bậc 1 (Manhattan Norm)\n",
    "print(\"--- Chuẩn bậc 1 (Manhattan Norm) ---\")\n",
    "print(f\"chuan(a, 1): {chuan(a, 1)}\")\n",
    "print(f\"np.linalg.norm(a, 1): {np.linalg.norm(a, 1)}\")\n",
    "print(\"-\" * 30 + \"\\n\")\n",
    "\n",
    "\n",
    "## Chuẩn bậc 2 (Euclidean Norm)\n",
    "\n",
    "print(\"--- Chuẩn bậc 2 (Euclidean Norm) ---\")\n",
    "print(f\"chuan(a, 2): {chuan(a, 2)}\")\n",
    "print(f\"np.linalg.norm(a, 2): {np.linalg.norm(a, 2)}\")\n",
    "print(\"-\" * 30 + \"\\n\")\n",
    "\n",
    "\n",
    "## Chuẩn bậc 3\n",
    "\n",
    "print(\"--- Chuẩn bậc 3 ---\")\n",
    "print(f\"chuan(a, 3): {chuan(a, 3)}\")\n",
    "print(f\"np.linalg.norm(a, 3): {np.linalg.norm(a, 3)}\")\n",
    "print(\"-\" * 30 + \"\\n\")\n",
    "\n",
    "\n",
    "## Chuẩn bậc 1000\n",
    "\n",
    "print(\"--- Chuẩn bậc 1000 ---\")\n",
    "print(f\"chuan(a, 1000): {chuan(a, 1000)}\")\n",
    "print(f\"np.linalg.norm(a, 1000): {np.linalg.norm(a, 1000)}\")\n",
    "print(\"-\" * 30 + \"\\n\")\n",
    "\n",
    "\n",
    "\n",
    "print(\"--- Lưu ý về lỗi có thể xảy ra ---\")\n",
    "print(\"Hàm chuan(vector, p) được định nghĩa như trên sẽ hoạt động tốt với p dương.\")\n",
    "print(\"Nếu p không hợp lệ (ví dụ: p = 0 hoặc p âm), có thể gây ra lỗi.\")\n",
    "print(\"-\" * 30 + \"\\n\")\n",
    "\n",
    "print(\"--- Sử dụng scipy.linalg.norm ---\")\n",
    "print(f\"linalg.norm(a) (mặc định p=2): {linalg.norm(a)}\")\n",
    "print(f\"linalg.norm(a, 100): {linalg.norm(a, 100)}\")\n",
    "print(f\"linalg.norm(a, 1000): {linalg.norm(a, 1000)}\")\n",
    "print(\"-\" * 30 + \"\\n\")"
   ]
  },
  {
   "cell_type": "markdown",
   "metadata": {},
   "source": [
    "### 2. Đọc thêm: Tổ hợp tuyến tính\n",
    "#### Tổ hợp tuyến tính (linear combination)"
   ]
  },
  {
   "cell_type": "code",
   "execution_count": 8,
   "metadata": {},
   "outputs": [
    {
     "name": "stdout",
     "output_type": "stream",
     "text": [
      "Ma trận M:\n",
      "[[ 5 -4  3]\n",
      " [ 4  3 -2]\n",
      " [-4 -3 -1]\n",
      " [-9  8  6]]\n",
      "------------------------------\n",
      "\n",
      "Ma trận chuyển vị MT:\n",
      "[[ 5  4 -4 -9]\n",
      " [-4  3 -3  8]\n",
      " [ 3 -2 -1  6]]\n",
      "------------------------------\n",
      "\n",
      "Vector v:\n",
      "[1.3 0.9 0. ]\n",
      "------------------------------\n",
      "\n"
     ]
    }
   ],
   "source": [
    "import numpy as np\n",
    "\n",
    "# Khởi tạo các biến và vector\n",
    "m = 10\n",
    "v1 = np.array([5,-4,3])\n",
    "v2 = np.array([4,3,-2])\n",
    "v3 = np.array([-4,-3,-1])\n",
    "v4 = np.array([-9,8,6])\n",
    "mi = np.array([2,5,2,1])\n",
    "\n",
    "# Tạo ma trận M từ các vector hàng\n",
    "M = np.array([v1,v2,v3,v4])\n",
    "print(\"Ma trận M:\")\n",
    "print(M)\n",
    "print(\"-\" * 30 + \"\\n\")\n",
    "\n",
    "# Chuyển vị của Ma trận M (MT)\n",
    "MT = M.transpose()\n",
    "print(\"Ma trận chuyển vị MT:\")\n",
    "print(MT)\n",
    "print(\"-\" * 30 + \"\\n\")\n",
    "\n",
    "# Tính toán Vector v\n",
    "v = (1.0/m) * MT.dot(mi)\n",
    "\n",
    "# In kết quả của vector v\n",
    "print(\"Vector v:\")\n",
    "print(v)\n",
    "print(\"-\" * 30 + \"\\n\")"
   ]
  },
  {
   "cell_type": "markdown",
   "metadata": {},
   "source": [
    "#### 3. Tri riêng, vector riêng của ma trận và ứng dụng\n",
    "##### 3.1.Bài toán dẫn nhập "
   ]
  },
  {
   "cell_type": "code",
   "execution_count": 9,
   "metadata": {},
   "outputs": [
    {
     "name": "stdout",
     "output_type": "stream",
     "text": [
      "[0.98550723 0.01449277]\n"
     ]
    }
   ],
   "source": [
    "import numpy as np\n",
    "\n",
    "# Khai báo ma trận A\n",
    "A = np.array([[0.998, 0.136],\n",
    "              [0.002, 0.864]])\n",
    "\n",
    "# Khai báo vector v0\n",
    "v0 = np.array([0.95, 0.05])\n",
    "\n",
    "# Tính vector A^100\n",
    "A_power_100 = np.linalg.matrix_power(A, 100)\n",
    "\n",
    "# Tính vector x100 và y100\n",
    "v100 = A_power_100 @ v0\n",
    "\n",
    "# In kết quả\n",
    "print(f\"{v100}\")"
   ]
  },
  {
   "cell_type": "markdown",
   "metadata": {},
   "source": [
    "#### Trạng thái cân bằng (Markov)"
   ]
  },
  {
   "cell_type": "code",
   "execution_count": 10,
   "metadata": {},
   "outputs": [
    {
     "name": "stdout",
     "output_type": "stream",
     "text": [
      "Giải pháp bằng NumPy (x, y):\n",
      "[0.98550725 0.01449275]\n",
      "--------------------------------------------------\n",
      "Giải pháp bằng SymPy:\n",
      "⎧   68         ⎫\n",
      "⎨x: ──, y: 1/69⎬\n",
      "⎩   69         ⎭\n"
     ]
    }
   ],
   "source": [
    "import numpy as np\n",
    "import sympy as sym\n",
    "\n",
    "# --- Phần giải bằng NumPy ---\n",
    "# Khai báo ma trận hệ số B\n",
    "B = np.array([[1, -68],\n",
    "              [1, 1]])\n",
    "\n",
    "# Khai báo vector vế phải c\n",
    "c = np.array([0, 1])\n",
    "\n",
    "# Giải hệ phương trình B * [x, y]T = c\n",
    "solution_np = np.linalg.solve(B, c)\n",
    "\n",
    "print(\"Giải pháp bằng NumPy (x, y):\")\n",
    "print(solution_np)\n",
    "print(\"-\" * 50)\n",
    "\n",
    "# --- Phần giải bằng SymPy ---\n",
    "# Khai báo biến ký hiệu\n",
    "x, y = sym.symbols('x y')\n",
    "\n",
    "# Khai báo vector biến\n",
    "xy = sym.Matrix([x,y])\n",
    "\n",
    "# Khai báo ma trận hệ số cho SymPy\n",
    "A_sym = sym.Matrix([[1, -68],[1,1]])\n",
    "\n",
    "# Khai báo vector vế phải cho SymPy\n",
    "v_sym = sym.Matrix([0, 1])\n",
    "\n",
    "# Giải hệ phương trình A_sym * xy - v_sym = 0\n",
    "nghiem = sym.solve(A_sym * xy - v_sym)\n",
    "\n",
    "# In kết quả SymPy\n",
    "print(\"Giải pháp bằng SymPy:\")\n",
    "print(sym.pretty(nghiem))\n"
   ]
  },
  {
   "cell_type": "markdown",
   "metadata": {},
   "source": [
    "##### 3.2.Trị riêng và vector riêng của ma trận"
   ]
  },
  {
   "cell_type": "code",
   "execution_count": 11,
   "metadata": {},
   "outputs": [
    {
     "name": "stdout",
     "output_type": "stream",
     "text": [
      "Ma trận A:\n",
      " [[5 6]\n",
      " [5 2]]\n",
      "\n",
      "Vector u:\n",
      " [ 1 -5]\n",
      "\n",
      "Au:\n",
      " [-25  -5]\n",
      "\n",
      "-4u:\n",
      " [-4 20]\n",
      "\n",
      "Au = -4u: Phát biểu SAI.\n",
      "--------------------------------------------------\n",
      "\n",
      "Ma trận (A - lambda*I):\n",
      " ⎡5 - λ    6  ⎤\n",
      "⎢            ⎥\n",
      "⎣  5    2 - λ⎦\n",
      "\n",
      "Định thức |A - lambda*I|:\n",
      "  2           \n",
      "λ  - 7⋅λ - 20\n",
      "\n",
      "Trị riêng (Eigenvalues) từ SymPy solve:\n",
      " [7/2 - sqrt(129)/2, 7/2 + sqrt(129)/2]\n",
      "--------------------------------------------------\n",
      "\n",
      "Trị riêng (Eigenvalues) từ NumPy np.linalg.eig:\n",
      " [ 9.17890835 -2.17890835]\n",
      "\n",
      "Vector riêng (Eigenvectors) từ NumPy np.linalg.eig (cột tương ứng với trị riêng):\n",
      " [[ 0.82058481 -0.64129241]\n",
      " [ 0.57152478  0.76729658]]\n"
     ]
    }
   ],
   "source": [
    "import numpy as np\n",
    "import sympy as sym\n",
    "\n",
    "A = np.array([[5, 6],\n",
    "              [5, 2]])\n",
    "\n",
    "# Khai báo vector riêng u\n",
    "u = np.array([1, -5])\n",
    "\n",
    "# Tính Au\n",
    "Au = A @ u\n",
    "\n",
    "# Tính -4u\n",
    "neg4u = -4 * u\n",
    "\n",
    "print(\"Ma trận A:\\n\", A)\n",
    "print(\"\\nVector u:\\n\", u)\n",
    "print(\"\\nAu:\\n\", Au)\n",
    "print(\"\\n-4u:\\n\", neg4u)\n",
    "\n",
    "# So sánh Au và -4u\n",
    "# np.allclose là tốt hơn np.array_equal cho số thực do vấn đề sai số dấu phẩy động\n",
    "if np.allclose(Au, neg4u):\n",
    "    print(\"\\nAu = -4u: Phát biểu ĐÚNG.\")\n",
    "else:\n",
    "    print(\"\\nAu = -4u: Phát biểu SAI.\")\n",
    "\n",
    "print(\"-\" * 50)\n",
    "\n",
    "\n",
    "# Khai báo biến ký hiệu cho trị riêng (lambda)\n",
    "lambda_sym = sym.symbols('lambda')\n",
    "\n",
    "# Khai báo ma trận A trong SymPy (để làm việc với ký hiệu)\n",
    "A_sym = sym.Matrix([[5, 6],\n",
    "                    [5, 2]])\n",
    "\n",
    "# Khai báo ma trận đơn vị I cùng kích thước với A_sym\n",
    "I_sym = sym.eye(A_sym.shape[0])\n",
    "\n",
    "# Tính ma trận (A - lambda*I)\n",
    "A_minus_lambda_I = A_sym - lambda_sym * I_sym\n",
    "print(\"\\nMa trận (A - lambda*I):\\n\", sym.pretty(A_minus_lambda_I))\n",
    "\n",
    "# Tính định thức của (A - lambda*I)\n",
    "determinant = A_minus_lambda_I.det()\n",
    "print(\"\\nĐịnh thức |A - lambda*I|:\\n\", sym.pretty(determinant))\n",
    "\n",
    "# Giải phương trình định thức = 0 để tìm trị riêng\n",
    "eigenvalues_sym = sym.solve(determinant, lambda_sym)\n",
    "print(\"\\nTrị riêng (Eigenvalues) từ SymPy solve:\\n\", eigenvalues_sym)\n",
    "\n",
    "print(\"-\" * 50)\n",
    "\n",
    "# 2. Sử dụng NumPy để tính trị riêng (kiểm tra lại)\n",
    "eigenvalues_np, eigenvectors_np = np.linalg.eig(A)\n",
    "print(\"\\nTrị riêng (Eigenvalues) từ NumPy np.linalg.eig:\\n\", eigenvalues_np)\n",
    "print(\"\\nVector riêng (Eigenvectors) từ NumPy np.linalg.eig (cột tương ứng với trị riêng):\\n\", eigenvectors_np)"
   ]
  },
  {
   "cell_type": "code",
   "execution_count": 12,
   "metadata": {},
   "outputs": [
    {
     "name": "stdout",
     "output_type": "stream",
     "text": [
      "[-7.000, 3.000]\n",
      "[-7, 3]\n"
     ]
    }
   ],
   "source": [
    "import sympy\n",
    "\n",
    "# Khai báo các biến ký hiệu\n",
    "x, y, Lambda = sympy.symbols('x y Lambda')\n",
    "\n",
    "# Khai báo ma trận đơn vị I\n",
    "I = sympy.eye(2)\n",
    "\n",
    "# Khai báo ma trận A\n",
    "A = sympy.Matrix([[2,3],[3,-6]])\n",
    "\n",
    "# Xây dựng phương trình đặc trưng: det(Lambda*I - A) = 0\n",
    "phuongtrinh = sympy.Eq(sympy.det(Lambda*I - A), 0)\n",
    "\n",
    "# Giải phương trình để tìm trị riêng\n",
    "nghiem = sympy.solve(phuongtrinh)\n",
    "\n",
    "# In kết quả với 4 chữ số có nghĩa\n",
    "print([sympy.N(phantu,4) for phantu in nghiem])\n",
    "\n",
    "# In kết quả theo định dạng đẹp của SymPy\n",
    "print (sympy.pretty(nghiem))"
   ]
  },
  {
   "cell_type": "code",
   "execution_count": 13,
   "metadata": {},
   "outputs": [
    {
     "name": "stdout",
     "output_type": "stream",
     "text": [
      "Ma trận (A - Lambda*I):\n",
      "⎡-1  3 ⎤\n",
      "⎢      ⎥\n",
      "⎣3   -9⎦\n",
      "\n",
      "Hệ phương trình (A - Lambda*I)v = 0:\n",
      "⎡-x + 3⋅y ⎤\n",
      "⎢         ⎥\n",
      "⎣3⋅x - 9⋅y⎦\n",
      "\n",
      "Giải pháp cho vector riêng (x, y) khi Lambda = 3:\n",
      "{x: 3⋅y}\n"
     ]
    }
   ],
   "source": [
    "import sympy as sym\n",
    "\n",
    "# Khai báo các biến ký hiệu\n",
    "x, y = sym.symbols('x y')\n",
    "\n",
    "# Khai báo ma trận A\n",
    "A = sym.Matrix([[2, 3],\n",
    "                [3, -6]])\n",
    "\n",
    "# Khai báo trị riêng Lambda (ví dụ với Lambda = 3)\n",
    "Lambda = 3\n",
    "\n",
    "# Khai báo ma trận đơn vị I\n",
    "I = sym.eye(2)\n",
    "\n",
    "# Xây dựng ma trận (A - Lambda*I)\n",
    "A_minus_Lambda_I = A - Lambda * I\n",
    "\n",
    "# Khai báo vector biến v\n",
    "v = sym.Matrix([x, y])\n",
    "\n",
    "# Xây dựng hệ phương trình (A - Lambda*I) * v = 0\n",
    "equations = A_minus_Lambda_I * v\n",
    "\n",
    "# Giải hệ phương trình\n",
    "eigenvector_solution = sym.solve(equations, (x, y))\n",
    "\n",
    "# In kết quả\n",
    "print(f\"Ma trận (A - Lambda*I):\\n{sym.pretty(A_minus_Lambda_I)}\")\n",
    "print(f\"\\nHệ phương trình (A - Lambda*I)v = 0:\\n{sym.pretty(equations)}\")\n",
    "print(f\"\\nGiải pháp cho vector riêng (x, y) khi Lambda = {Lambda}:\\n{sym.pretty(eigenvector_solution)}\")"
   ]
  },
  {
   "cell_type": "markdown",
   "metadata": {},
   "source": [
    "#### 3.3.Ứng dụng của trị riêng và vector riêng"
   ]
  },
  {
   "cell_type": "code",
   "execution_count": null,
   "metadata": {},
   "outputs": [
    {
     "name": "stdout",
     "output_type": "stream",
     "text": [
      "[[-0.3  0.9]\n",
      " [ 0.3  0.1]]\n",
      "[[ 2.33333333  9.        ]\n",
      " [-7.          3.        ]]\n",
      "[[ 2.33333333  9.        ]\n",
      " [-7.          3.        ]]\n",
      "[[-6.25396533e+08 -3.52488701e+08]\n",
      " [-3.52488701e+08  3.14573335e+08]]\n",
      "[[49  0]\n",
      " [ 0  9]]\n"
     ]
    }
   ],
   "source": [
    "import numpy as np\n",
    "from numpy import linalg as LA\n",
    "\n",
    "# Khai báo ma trận A, D, P\n",
    "A = np.array([[2, 3],\n",
    "              [3, -6]])\n",
    "\n",
    "D = np.array([[-7, 0],\n",
    "              [0, 3]]) gg4gg4\n",
    "\n",
    "P = np.array([[-1.0/3, 3],\n",
    "              [1, 1]])\n",
    "\n",
    "# Tính P^(-1)\n",
    "P1 = LA.inv(P)\n",
    "print(P1)\n",
    "\n",
    "# Kiểm tra A.dot(P)\n",
    "print(A.dot(P))\n",
    "\n",
    "# Kiểm tra P.dot(D)\n",
    "print(P.dot(D))\n",
    "\n",
    "# Tính A^1000\n",
    "A_power_1000 = P @ (D ** 1000) @ P1\n",
    "print(A_power_1000)\n",
    "\n",
    "# Thử tính các giá trị lũy thừa của ma trận đường chéo\n",
    "print(D ** 2)"
   ]
  },
  {
   "cell_type": "markdown",
   "metadata": {},
   "source": [
    "#### BT Chương 6"
   ]
  },
  {
   "cell_type": "code",
   "execution_count": null,
   "metadata": {},
   "outputs": [
    {
     "name": "stdout",
     "output_type": "stream",
     "text": [
      "Sử dụng np.linalg.norm: 3.7416573867739413\n",
      "Lựa chọn a: 3.7416573867739413\n",
      "Lựa chọn b: 3.7416573867739413\n",
      "Lựa chọn c: 3.7416573867739413\n",
      "Lựa chọn d: 3.7416573867739413\n"
     ]
    }
   ],
   "source": [
    "#câu1\n",
    "import numpy as np\n",
    "a = np.array([1,2,3])\n",
    "\n",
    "# Cách phổ biến và hiệu quả nhất\n",
    "mag_norm = np.linalg.norm(a) \n",
    "print(f\"Sử dụng np.linalg.norm: {mag_norm}\")\n",
    "\n",
    "# Kiểm tra các lựa chọn khác\n",
    "mag_a = np.sqrt(a.dot(a))\n",
    "print(f\"Lựa chọn a: {mag_a}\")\n",
    "\n",
    "mag_b = np.sqrt(a @ a)\n",
    "print(f\"Lựa chọn b: {mag_b}\")\n",
    "\n",
    "mag_c = np.sqrt(np.inner(a, a))\n",
    "print(f\"Lựa chọn c: {mag_c}\")\n",
    "\n",
    "import math\n",
    "mag_d_func = lambda x : math.sqrt(sum(i** 2 for i in x))\n",
    "mag_d = mag_d_func(a)\n",
    "print(f\"Lựa chọn d: {mag_d}\")"
   ]
  },
  {
   "cell_type": "code",
   "execution_count": null,
   "metadata": {},
   "outputs": [
    {
     "name": "stdout",
     "output_type": "stream",
     "text": [
      "Khoảng cách: 5.196152422706632\n",
      "------------------------------\n",
      "Góc (radian): 1.5707963267948966\n",
      "------------------------------\n",
      "Phép chiếu: [1. 0.]\n",
      "------------------------------\n"
     ]
    }
   ],
   "source": [
    "import numpy as np\n",
    "\n",
    "# Câu 2a: Tính khoảng cách giữa 2 vector u và v \n",
    "def calculate_distance(u, v):\n",
    "    if len(u) != len(v):\n",
    "        raise ValueError(\"Hai vector phải có cùng kích thước.\")\n",
    "    diff_vector = u - v\n",
    "    distance = np.linalg.norm(diff_vector)\n",
    "    return distance\n",
    "vector_u_dist = np.array([1, 2, 3])\n",
    "vector_v_dist = np.array([4, 5, 6])\n",
    "dist = calculate_distance(vector_u_dist, vector_v_dist)\n",
    "print(f\"Khoảng cách: {dist}\")\n",
    "print(\"-\" * 30)\n",
    "\n",
    "# --- Câu 2b: Tính góc theta của 2 vector u và v ---\n",
    "def calculate_angle(u, v):\n",
    "    if len(u) != len(v):\n",
    "        raise ValueError(\"Hai vector phải có cùng kích thước.\")\n",
    "    dot_product = np.dot(u, v)\n",
    "    norm_u = np.linalg.norm(u)\n",
    "    norm_v = np.linalg.norm(v)\n",
    "    if norm_u == 0 or norm_v == 0:\n",
    "        return np.nan\n",
    "    cosine_theta = dot_product / (norm_u * norm_v)\n",
    "    cosine_theta = np.clip(cosine_theta, -1.0, 1.0) # Đảm bảo giá trị trong [-1, 1]\n",
    "    angle_rad = np.arccos(cosine_theta)\n",
    "    return angle_rad\n",
    "vector_u_angle = np.array([1, 0])\n",
    "vector_v_angle = np.array([0, 1])\n",
    "angle = calculate_angle(vector_u_angle, vector_v_angle)\n",
    "print(f\"Góc (radian): {angle}\")\n",
    "print(\"-\" * 30)\n",
    "\n",
    "# --- Câu 2c: Phép chiếu trực giao p của vector u lên v ---\n",
    "def orthogonal_projection(u, v):\n",
    "    if len(u) != len(v):\n",
    "        raise ValueError(\"Hai vector phải có cùng kích thước.\")\n",
    "    dot_uv = np.dot(u, v)\n",
    "    dot_vv = np.dot(v, v)\n",
    "    if dot_vv == 0:\n",
    "        return np.zeros_like(v)\n",
    "    scalar_factor = dot_uv / dot_vv\n",
    "    projection = scalar_factor * v\n",
    "    return projection\n",
    "vector_u_proj = np.array([1, 2])\n",
    "vector_v_proj = np.array([3, 0])\n",
    "proj = orthogonal_projection(vector_u_proj, vector_v_proj)\n",
    "print(f\"Phép chiếu: {proj}\")\n",
    "print(\"-\" * 30)"
   ]
  }
 ],
 "metadata": {
  "kernelspec": {
   "display_name": "Python 3",
   "language": "python",
   "name": "python3"
  },
  "language_info": {
   "codemirror_mode": {
    "name": "ipython",
    "version": 3
   },
   "file_extension": ".py",
   "mimetype": "text/x-python",
   "name": "python",
   "nbconvert_exporter": "python",
   "pygments_lexer": "ipython3",
   "version": "3.10.11"
  }
 },
 "nbformat": 4,
 "nbformat_minor": 2
}
