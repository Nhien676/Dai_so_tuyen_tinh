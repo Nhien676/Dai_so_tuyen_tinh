{
 "cells": [
  {
   "cell_type": "markdown",
   "metadata": {},
   "source": [
    "## 1.2.1. Các phép xử lý với danh sách\n"
   ]
  },
  {
   "cell_type": "code",
   "execution_count": 1,
   "metadata": {},
   "outputs": [
    {
     "name": "stdout",
     "output_type": "stream",
     "text": [
      "Kết quả phép cộng danh sách: [1.0, 3.0, 5.0, 7.0]\n",
      "Danh sách gấp đôi: [1.0, 3.0, 5.0, 7.0, 1.0, 3.0, 5.0, 7.0]\n",
      "Kết quả danhsach * 2: [1.0, 3.0, 5.0, 7.0, 1.0, 3.0, 5.0, 7.0]\n",
      "Lỗi: unsupported operand type(s) for /: 'list' and 'int'\n"
     ]
    }
   ],
   "source": [
    "# Khởi tạo 2 danh sách\n",
    "danhsach1 = [1., 3.]\n",
    "danhsach2 = [5., 7.]\n",
    "\n",
    "# Ghép nối 2 danh sách\n",
    "danhsach = danhsach1 + danhsach2\n",
    "print(\"Kết quả phép cộng danh sách:\", danhsach)\n",
    "# [1.0, 3.0, 5.0, 7.0]\n",
    "\n",
    "# Nhân danh sách với 2 (nhân bản)\n",
    "danhsach_gapdoi = 2 * danhsach\n",
    "print(\"Danh sách gấp đôi:\", danhsach_gapdoi)\n",
    "# [1.0, 3.0, 5.0, 7.0, 1.0, 3.0, 5.0, 7.0]\n",
    "\n",
    "# Cách khác: nhân trực tiếp\n",
    "print(\"Kết quả danhsach * 2:\", danhsach * 2)\n",
    "# [1.0, 3.0, 5.0, 7.0, 1.0, 3.0, 5.0, 7.0]\n",
    "\n",
    "# Phép chia danh sách (không hợp lệ trong Python)\n",
    "try:\n",
    "    print(\"Kết quả danhsach / 2:\", danhsach / 2)\n",
    "except TypeError as e:\n",
    "    print(\"Lỗi:\", e)\n",
    "# Lỗi: unsupported operand type(s) for /: 'list' and 'int'\n"
   ]
  },
  {
   "cell_type": "markdown",
   "metadata": {},
   "source": [
    "## Ghép các danh sách bằng lệnh zip: "
   ]
  },
  {
   "cell_type": "code",
   "execution_count": 2,
   "metadata": {},
   "outputs": [
    {
     "name": "stdout",
     "output_type": "stream",
     "text": [
      "Danh sách sau khi zip:\n",
      "[(2, 'ToanCC', 10), (3, 'DSTT', 9), (4, 'ToanRR', 8), (1, 'LaptrinhCB', 7)]\n",
      "Tập hợp sau khi chuyển:\n",
      "{(2, 'ToanCC', 10), (3, 'DSTT', 9), (4, 'ToanRR', 8), (1, 'LaptrinhCB', 7)}\n"
     ]
    }
   ],
   "source": [
    "# Danh sách các môn học\n",
    "mon_hoc = [\"ToanCC\", \"DSTT\", \"ToanRR\", \"LaptrinhCB\"]\n",
    "\n",
    "# Thứ tự các môn học\n",
    "thu_tu = [2, 3, 4, 1]\n",
    "\n",
    "# Điểm số tương ứng\n",
    "diem_so = [10, 9, 8, 7]\n",
    "\n",
    "# Ghép 3 danh sách thành danh sách các bộ 3 (tuple)\n",
    "anh_xa = zip(thu_tu, mon_hoc, diem_so)\n",
    "\n",
    "# Để xem kết quả, chuyển sang dạng list và in ra\n",
    "anh_xa = list(anh_xa)\n",
    "print(\"Danh sách sau khi zip:\")\n",
    "print(anh_xa)\n",
    "# [(2, 'ToanCC', 10), (3, 'DSTT', 9), (4, 'ToanRR', 8), (1, 'LaptrinhCB', 7)]\n",
    "\n",
    "# Chuyển danh sách này thành tập hợp (set)\n",
    "tap_hop = set(anh_xa)\n",
    "print(\"Tập hợp sau khi chuyển:\")\n",
    "print(tap_hop)\n",
    "# {(3, 'DSTT', 9), (4, 'ToanRR', 8), (1, 'LaptrinhCB', 7), (2, 'ToanCC', 10)}\n"
   ]
  },
  {
   "cell_type": "code",
   "execution_count": 3,
   "metadata": {},
   "outputs": [
    {
     "name": "stdout",
     "output_type": "stream",
     "text": [
      "Thứ tự: (2, 3, 4, 1)\n",
      "Môn học: ('ToanCC', 'DSTT', 'ToanRR', 'LaptrinhCB')\n",
      "Điểm số: (10, 9, 8, 7)\n"
     ]
    }
   ],
   "source": [
    "# Dữ liệu đã zip từ trước\n",
    "anh_xa = [(2, 'ToanCC', 10), (3, 'DSTT', 9), (4, 'ToanRR', 8), (1, 'LaptrinhCB', 7)]\n",
    "\n",
    "# Tách các phần tử trong danh sách anh_xa ra 3 danh sách riêng biệt\n",
    "lay_TT, lay_monhoc, lay_diem = zip(*anh_xa)\n",
    "\n",
    "print(\"Thứ tự:\", lay_TT)\n",
    "print(\"Môn học:\", lay_monhoc)\n",
    "print(\"Điểm số:\", lay_diem)\n"
   ]
  },
  {
   "cell_type": "markdown",
   "metadata": {},
   "source": [
    "## 2.1. Đặt nhân tử chung và khai triển biểu thức"
   ]
  },
  {
   "cell_type": "code",
   "execution_count": 1,
   "metadata": {},
   "outputs": [
    {
     "name": "stdout",
     "output_type": "stream",
     "text": [
      "(x - y)*(x**2 + x*y + y**2)\n"
     ]
    }
   ],
   "source": [
    "from sympy import symbols, factor\n",
    "\n",
    "x, y = symbols('x y')\n",
    "bieuthuc = x**3 - y**3\n",
    "ketqua = factor(bieuthuc)\n",
    "print(ketqua)\n"
   ]
  },
  {
   "cell_type": "code",
   "execution_count": 2,
   "metadata": {},
   "outputs": [
    {
     "name": "stdout",
     "output_type": "stream",
     "text": [
      "x**3 - y**3\n"
     ]
    }
   ],
   "source": [
    "from sympy import symbols, expand\n",
    "\n",
    "x, y = symbols('x y')\n",
    "bieuthuc = (x - y)*(x**2 + x*y + y**2)\n",
    "print(expand(bieuthuc))\n"
   ]
  },
  {
   "cell_type": "markdown",
   "metadata": {},
   "source": [
    "## 2.2  Thay thế giá trị"
   ]
  },
  {
   "cell_type": "code",
   "execution_count": 3,
   "metadata": {},
   "outputs": [
    {
     "name": "stdout",
     "output_type": "stream",
     "text": [
      "x**2 - x*y + y**2\n"
     ]
    }
   ],
   "source": [
    "from sympy import Symbol\n",
    "\n",
    "x = Symbol('x')\n",
    "y = Symbol('y')\n",
    "bieuthuc = x*x - x*y + y*y\n",
    "print((bieuthuc))"
   ]
  },
  {
   "cell_type": "code",
   "execution_count": 4,
   "metadata": {},
   "outputs": [
    {
     "name": "stdout",
     "output_type": "stream",
     "text": [
      "7\n"
     ]
    }
   ],
   "source": [
    "from sympy import Symbol\n",
    "\n",
    "x = Symbol('x')\n",
    "y = Symbol('y')\n",
    "bieuthuc = x*x - x*y + y*y\n",
    "\n",
    "# Thay thế x = 3, y = 2\n",
    "giatri = bieuthuc.subs({x: 3, y: 2})\n",
    "print(giatri)\n",
    "    "
   ]
  },
  {
   "cell_type": "markdown",
   "metadata": {},
   "source": [
    "## Thực hành\n"
   ]
  },
  {
   "cell_type": "code",
   "execution_count": null,
   "metadata": {},
   "outputs": [
    {
     "name": "stdout",
     "output_type": "stream",
     "text": [
      "9\n"
     ]
    }
   ],
   "source": [
    "#tình huống 11\n",
    "from sympy import symbols\n",
    "\n",
    "# Khai báo biến\n",
    "x, y = symbols('x y')\n",
    "\n",
    "# Định nghĩa biểu thức\n",
    "bieuthuc = x**2 - x*y + y**2\n",
    "\n",
    "# Thay thế: x = 3, y = x \n",
    "giatri = bieuthuc.subs({x:3, y:x}).subs(x, 3)  \n",
    "# In ra biểu thức sau khi thay\n",
    "print(giatri)\n"
   ]
  },
  {
   "cell_type": "code",
   "execution_count": null,
   "metadata": {},
   "outputs": [
    {
     "name": "stdout",
     "output_type": "stream",
     "text": [
      "9\n"
     ]
    }
   ],
   "source": [
    "#tình huống 2\n",
    "\n",
    "from sympy import symbols\n",
    "\n",
    "# Khai báo biến\n",
    "x, y = symbols('x y')\n",
    "\n",
    "# Định nghĩa biểu thức\n",
    "bieuthuc = x**2 - x*y + y**2\n",
    "\n",
    "# Thay thế theo thứ tự: x = y, y = 3\n",
    "giatri = bieuthuc.subs({x: y, y: 3})\n",
    "\n",
    "# In kết quả\n",
    "print(giatri)\n"
   ]
  },
  {
   "cell_type": "markdown",
   "metadata": {},
   "source": [
    "## 3.1. Một số lệnh cơ bản numpy xử lý vector "
   ]
  },
  {
   "cell_type": "code",
   "execution_count": 9,
   "metadata": {},
   "outputs": [
    {
     "name": "stdout",
     "output_type": "stream",
     "text": [
      "vec1 = [1. 3. 5.]\n",
      "vec2 = [2. 4.]\n",
      "vec3 = [2. 4. 6.]\n",
      "---\n",
      "vec1 * 2 = [ 2.  6. 10.]\n",
      "vec1 * vec1 (phép nhân Hadamard) = [ 1.  9. 25.]\n",
      "vec1 / 2 = [0.5 1.5 2.5]\n",
      "vec1 + vec1 = [ 2.  6. 10.]\n",
      "vec1 + vec2: Lỗi - operands could not be broadcast together with shapes (3,) (2,) . Lý do: Kích thước của các vector không khớp.\n",
      "vec1 + vec3 = [ 3.  7. 11.]\n",
      "vec1 / vec3 = [0.5        0.75       0.83333333]\n",
      "vec1 * vec3 = [ 2. 12. 30.]\n",
      "2 * vec1 + 5 * vec3 = [12. 26. 40.]\n"
     ]
    }
   ],
   "source": [
    "import numpy as np\n",
    "\n",
    "# Khởi tạo các vector\n",
    "vec1 = np.array([1., 3., 5.])\n",
    "vec2 = np.array([2., 4.])\n",
    "vec3 = np.array([2., 4., 6.])\n",
    "\n",
    "print(f\"vec1 = {vec1}\")\n",
    "print(f\"vec2 = {vec2}\")\n",
    "print(f\"vec3 = {vec3}\")\n",
    "print(\"---\")\n",
    "\n",
    "# vec1 * 2\n",
    "print(f\"vec1 * 2 = {vec1 * 2}\")\n",
    "\n",
    "# vec1 * vec1\n",
    "print(f\"vec1 * vec1 (phép nhân Hadamard) = {vec1 * vec1}\")\n",
    "\n",
    "# vec1 / 2\n",
    "print(f\"vec1 / 2 = {vec1 / 2}\")\n",
    "\n",
    "# vec1 + vec1\n",
    "print(f\"vec1 + vec1 = {vec1 + vec1}\")\n",
    "\n",
    "# vec1 + vec2\n",
    "try:\n",
    "    print(f\"vec1 + vec2 = {vec1 + vec2}\")\n",
    "except ValueError as e:\n",
    "    print(f\"vec1 + vec2: Lỗi - {e}. Lý do: Kích thước của các vector không khớp.\")\n",
    "\n",
    "# vec1 + vec3\n",
    "print(f\"vec1 + vec3 = {vec1 + vec3}\")\n",
    "\n",
    "# vec1 / vec3\n",
    "print(f\"vec1 / vec3 = {vec1 / vec3}\")\n",
    "\n",
    "# vec1 * vec3\n",
    "print(f\"vec1 * vec3 = {vec1 * vec3}\")\n",
    "\n",
    "# 2 * vec1 + 5 * vec3\n",
    "print(f\"2 * vec1 + 5 * vec3 = {2 * vec1 + 5 * vec3}\")"
   ]
  },
  {
   "cell_type": "code",
   "execution_count": 10,
   "metadata": {},
   "outputs": [
    {
     "name": "stdout",
     "output_type": "stream",
     "text": [
      "Vector ban đầu v = [1. 3. 5.]\n",
      "--------------------\n",
      "Tổng các thành phần của vector: 9.0\n",
      "--------------------\n",
      "Số chiều của vector (v.shape): (3,)\n",
      "--------------------\n",
      "Kết quả chuyển vị (v.transpose()): [1. 3. 5.]\n",
      "Lưu ý: Đối với vector 1D, transpose() không thay đổi hình dạng.\n",
      "--------------------\n",
      "v1 = v[:2]: [1. 3.]\n",
      "Lưu ý: v1 là một 'view' của v, không phải bản sao độc lập.\n",
      "--------------------\n",
      "Sau khi v[0] = 5, vector v là: [5. 3. 5.]\n",
      "Và v1 bây giờ là: [5. 3.]\n",
      "Giải thích: v1 bị ảnh hưởng vì nó là view của v.\n",
      "--------------------\n",
      "Thử gán v1[:2] = [1., 2., 3.] (sẽ gây lỗi):\n",
      "Lỗi: could not broadcast input array from shape (3,) into shape (2,)\n",
      "Lý do: Số lượng phần tử gán (3) không khớp với kích thước slice (2).\n",
      "--------------------\n",
      "Sau khi v1[:2] = [1., 2.], vector v là: [1. 2. 5.]\n",
      "Giải thích: Thay đổi trên v1 cũng ảnh hưởng đến v.\n",
      "--------------------\n"
     ]
    }
   ],
   "source": [
    "import numpy as np\n",
    "\n",
    "# Khai báo vector\n",
    "v = np.array([1., 3., 5.])\n",
    "print(f\"Vector ban đầu v = {v}\")\n",
    "print(\"-\" * 20)\n",
    "\n",
    "# Lệnh lấy tổng các thành phần của vector\n",
    "total_sum = np.sum(v)\n",
    "print(f\"Tổng các thành phần của vector: {total_sum}\")\n",
    "print(\"-\" * 20)\n",
    "\n",
    "# Lệnh xem số chiều của một vector\n",
    "vector_shape = v.shape\n",
    "print(f\"Số chiều của vector (v.shape): {vector_shape}\")\n",
    "print(\"-\" * 20)\n",
    "\n",
    "# Thử nghiệm “chuyển vị” vector\n",
    "v_transposed = v.transpose()\n",
    "print(f\"Kết quả chuyển vị (v.transpose()): {v_transposed}\")\n",
    "print(\"Lưu ý: Đối với vector 1D, transpose() không thay đổi hình dạng.\")\n",
    "print(\"-\" * 20)\n",
    "\n",
    "# Lệnh lấy một phần của vector\n",
    "v1 = v[:2]\n",
    "print(f\"v1 = v[:2]: {v1}\")\n",
    "print(\"Lưu ý: v1 là một 'view' của v, không phải bản sao độc lập.\")\n",
    "print(\"-\" * 20)\n",
    "\n",
    "# Thay đổi giá trị trong v và quan sát v1\n",
    "v[0] = 5\n",
    "print(f\"Sau khi v[0] = 5, vector v là: {v}\")\n",
    "print(f\"Và v1 bây giờ là: {v1}\")\n",
    "print(\"Giải thích: v1 bị ảnh hưởng vì nó là view của v.\")\n",
    "print(\"-\" * 20)\n",
    "\n",
    "# Thử gán giá trị không khớp kích thước cho slice\n",
    "print(\"Thử gán v1[:2] = [1., 2., 3.] (sẽ gây lỗi):\")\n",
    "try:\n",
    "    v1[:2] = [1., 2., 3.]\n",
    "except ValueError as e:\n",
    "    print(f\"Lỗi: {e}\")\n",
    "    print(\"Lý do: Số lượng phần tử gán (3) không khớp với kích thước slice (2).\")\n",
    "print(\"-\" * 20)\n",
    "\n",
    "# Gán giá trị khớp kích thước cho slice\n",
    "v1[:2] = [1., 2.]\n",
    "print(f\"Sau khi v1[:2] = [1., 2.], vector v là: {v}\")\n",
    "print(\"Giải thích: Thay đổi trên v1 cũng ảnh hưởng đến v.\")\n",
    "print(\"-\" * 20)"
   ]
  },
  {
   "cell_type": "code",
   "execution_count": 11,
   "metadata": {},
   "outputs": [
    {
     "name": "stdout",
     "output_type": "stream",
     "text": [
      "Vector v ban đầu: [1. 3. 5.]\n",
      "Vector v1 (view của v[:2]): [1. 3.]\n",
      "------------------------------\n",
      "Kết quả v3 = 2 * v[:2] + v1 * 3: [ 5. 15.]\n",
      "------------------------------\n",
      "Sau khi v1 = [4, 6] (v1 trở thành list):\n",
      "v1 bây giờ là: [4, 6] (kiểu: <class 'list'>)\n",
      "------------------------------\n",
      "Giá trị của v3 (không thay đổi): [ 5. 15.]\n",
      "------------------------------\n",
      "Giá trị của v (không thay đổi so với trước khi gán lại v1): [1. 3. 5.]\n",
      "------------------------------\n"
     ]
    }
   ],
   "source": [
    "import numpy as np\n",
    "\n",
    "v = np.array([1., 3., 5.])\n",
    "v1 = v[:2] # v1 lúc này là một view của v, tức là [1., 3.]\n",
    "print(f\"Vector v ban đầu: {v}\")\n",
    "print(f\"Vector v1 (view của v[:2]): {v1}\")\n",
    "print(\"-\" * 30)\n",
    "v3 = 2 * v[:2] + v1 * 3\n",
    "print(f\"Kết quả v3 = 2 * v[:2] + v1 * 3: {v3}\")\n",
    "print(\"-\" * 30)\n",
    "v1 = [4, 6]\n",
    "print(f\"Sau khi v1 = [4, 6] (v1 trở thành list):\")\n",
    "print(f\"v1 bây giờ là: {v1} (kiểu: {type(v1)})\")\n",
    "print(\"-\" * 30)\n",
    "print(f\"Giá trị của v3 (không thay đổi): {v3}\")\n",
    "print(\"-\" * 30)\n",
    "print(f\"Giá trị của v (không thay đổi so với trước khi gán lại v1): {v}\")\n",
    "print(\"-\" * 30)"
   ]
  },
  {
   "cell_type": "code",
   "execution_count": 12,
   "metadata": {},
   "outputs": [
    {
     "name": "stdout",
     "output_type": "stream",
     "text": [
      "Vector v ban đầu: [1. 3. 5.]\n",
      "------------------------------\n",
      "v + 10.0 = [11. 13. 15.]\n",
      "------------------------------\n",
      "np.sqrt(v) = [1.         1.73205081 2.23606798]\n",
      "------------------------------\n",
      "np.cos(v) = [ 0.54030231 -0.9899925   0.28366219]\n",
      "------------------------------\n",
      "np.sin(v) = [ 0.84147098  0.14112001 -0.95892427]\n",
      "------------------------------\n"
     ]
    }
   ],
   "source": [
    "import numpy as np\n",
    "\n",
    "# Khai báo vector v (giả sử giá trị của nó là [1., 3., 5.] như ban đầu)\n",
    "v = np.array([1., 3., 5.])\n",
    "\n",
    "print(f\"Vector v ban đầu: {v}\")\n",
    "print(\"-\" * 30)\n",
    "\n",
    "# v + 10.0\n",
    "result_add_scalar = v + 10.0\n",
    "print(f\"v + 10.0 = {result_add_scalar}\")\n",
    "print(\"-\" * 30)\n",
    "\n",
    "# np.sqrt(v)\n",
    "result_sqrt = np.sqrt(v)\n",
    "print(f\"np.sqrt(v) = {result_sqrt}\")\n",
    "print(\"-\" * 30)\n",
    "\n",
    "# np.cos(v)\n",
    "result_cos = np.cos(v)\n",
    "print(f\"np.cos(v) = {result_cos}\")\n",
    "print(\"-\" * 30)\n",
    "\n",
    "# np.sin(v)\n",
    "result_sin = np.sin(v)\n",
    "print(f\"np.sin(v) = {result_sin}\")\n",
    "print(\"-\" * 30)"
   ]
  },
  {
   "cell_type": "code",
   "execution_count": 13,
   "metadata": {},
   "outputs": [
    {
     "name": "stdout",
     "output_type": "stream",
     "text": [
      "11\n"
     ]
    }
   ],
   "source": [
    "import numpy as np\n",
    "\n",
    "# Khai báo các vector\n",
    "v1 = np.array([1, 2])\n",
    "v3 = np.array([3, 4])\n",
    "\n",
    "print(np.dot(v1, v3))  \n",
    "\n"
   ]
  },
  {
   "cell_type": "markdown",
   "metadata": {},
   "source": [
    "### BT Chương 11"
   ]
  },
  {
   "cell_type": "code",
   "execution_count": 14,
   "metadata": {},
   "outputs": [
    {
     "name": "stdout",
     "output_type": "stream",
     "text": [
      "Nghiệm của phương trình x + 3 = 5 là: [2]\n",
      "Nghiệm của phương trình x^2 + 3 = 5 là: [-sqrt(2), sqrt(2)]\n",
      "Nghiệm thứ nhất: -sqrt(2)\n",
      "Nghiệm thứ hai: sqrt(2)\n"
     ]
    }
   ],
   "source": [
    "# bt 1:\n",
    "from sympy import Symbol, solve, sqrt\n",
    "\n",
    "# Khai báo biến x\n",
    "x = Symbol('x')\n",
    "\n",
    "# Ví dụ 1: Giải phương trình x + 3 = 5\n",
    "bieuthuc_1 = x + 3 - 5\n",
    "nghiem_1 = solve(bieuthuc_1)\n",
    "print(\"Nghiệm của phương trình x + 3 = 5 là:\", nghiem_1)\n",
    "\n",
    "# Ví dụ 2: Giải phương trình x^2 + 3 = 5\n",
    "bieuthuc_2 = x**2 + 3 - 5\n",
    "nghiem_2 = solve(bieuthuc_2)\n",
    "print(\"Nghiệm của phương trình x^2 + 3 = 5 là:\", nghiem_2)\n",
    "print(\"Nghiệm thứ nhất:\", nghiem_2[0])\n",
    "print(\"Nghiệm thứ hai:\", nghiem_2[1])\n"
   ]
  },
  {
   "cell_type": "code",
   "execution_count": 15,
   "metadata": {},
   "outputs": [
    {
     "name": "stdout",
     "output_type": "stream",
     "text": [
      "Nghiệm của phương trình x² + 9x + 8 = 0 là:\n",
      "[{x: -8}, {x: -1}]\n",
      "Nghiệm của phương trình x² + x + 10 = 0 là:\n",
      "[{x: -1/2 - sqrt(39)*I/2}, {x: -1/2 + sqrt(39)*I/2}]\n"
     ]
    }
   ],
   "source": [
    "#bt 2 \n",
    "from sympy import Symbol, solve, I\n",
    "\n",
    "# Khai báo biến x\n",
    "x = Symbol('x')\n",
    "\n",
    "# Trường hợp 1: Nghiệm thực\n",
    "ptb2_1 = x**2 + 9*x + 8\n",
    "nghiem_1 = solve(ptb2_1, dict=True)\n",
    "print(\"Nghiệm của phương trình x² + 9x + 8 = 0 là:\")\n",
    "print(nghiem_1)\n",
    "\n",
    "# Trường hợp 2: Nghiệm phức\n",
    "ptb2_2 = x**2 + x + 10\n",
    "nghiem_2 = solve(ptb2_2, dict=True)\n",
    "print(\"Nghiệm của phương trình x² + x + 10 = 0 là:\")\n",
    "print(nghiem_2)\n"
   ]
  },
  {
   "cell_type": "code",
   "execution_count": 16,
   "metadata": {},
   "outputs": [
    {
     "name": "stdout",
     "output_type": "stream",
     "text": [
      "Nghiệm tổng quát của phương trình a*x**2 + b*x + c = 0 là:\n",
      "[{x: (-b - sqrt(-4*a*c + b**2))/(2*a)}, {x: (-b + sqrt(-4*a*c + b**2))/(2*a)}]\n"
     ]
    }
   ],
   "source": [
    "#bt 3\n",
    "from sympy import Symbol, solve\n",
    "\n",
    "# Khai báo các biến\n",
    "x = Symbol('x')\n",
    "a = Symbol('a')\n",
    "b = Symbol('b')\n",
    "c = Symbol('c')\n",
    "\n",
    "# Định nghĩa phương trình bậc 2 tổng quát\n",
    "ptb2 = a*x**2 + b*x + c\n",
    "\n",
    "# Giải phương trình theo biến x, trả về dưới dạng dict\n",
    "nghiem = solve(ptb2, x, dict=True)\n",
    "\n",
    "# In kết quả nghiệm\n",
    "print(\"Nghiệm tổng quát của phương trình a*x**2 + b*x + c = 0 là:\")\n",
    "print(nghiem)\n"
   ]
  },
  {
   "cell_type": "code",
   "execution_count": null,
   "metadata": {},
   "outputs": [
    {
     "name": "stdout",
     "output_type": "stream",
     "text": [
      "Nghiệm của hệ phương trình là: [{x: 3, y: 2}]\n",
      "Thay nghiệm vào pt1, kết quả: 0\n",
      "Thay nghiệm vào pt2, kết quả: 0\n"
     ]
    }
   ],
   "source": [
    "#BT4 \n",
    "from sympy import Symbol, solve\n",
    "\n",
    "# Khai báo biến\n",
    "x = Symbol('x')\n",
    "y = Symbol('y')\n",
    "\n",
    "# Định nghĩa hai phương trình\n",
    "pt1 = 2*x + 3*y - 12\n",
    "pt2 = 3*x - 2*y - 5\n",
    "\n",
    "# Giải hệ phương trình và trả về kết quả dạng dictionary\n",
    "nghiem = solve((pt1, pt2), dict=True)\n",
    "\n",
    "# In kết quả nghiệm\n",
    "print(\"Nghiệm của hệ phương trình là:\", nghiem)\n",
    "\n",
    "# Lấy nghiệm đầu tiên trong danh sách\n",
    "nghiem0 = nghiem[0]\n",
    "\n",
    "# Thay nghiệm vào phương trình thứ nhất\n",
    "ket_qua_pt1 = pt1.subs({x: nghiem0[x], y: nghiem0[y]})\n",
    "print(\"Thay nghiệm vào pt1, kết quả:\", ket_qua_pt1)\n",
    "\n",
    "# Thay nghiệm vào phương trình thứ hai\n",
    "ket_qua_pt2 = pt2.subs({x: nghiem0[x], y: nghiem0[y]})\n",
    "print(\"Thay nghiệm vào pt2, kết quả:\", ket_qua_pt2)\n",
    "\n"
   ]
  },
  {
   "cell_type": "code",
   "execution_count": 18,
   "metadata": {},
   "outputs": [
    {
     "name": "stdout",
     "output_type": "stream",
     "text": [
      "[[ 9 12]\n",
      " [23 30]]\n",
      "Kiểu dữ liệu của M1: <class 'numpy.ndarray'>\n",
      "Hình dạng của M1 (số hàng, số cột): (2, 2)\n"
     ]
    }
   ],
   "source": [
    "#bt5 \n",
    "import numpy as np\n",
    "\n",
    "# Khai báo ma trận M1\n",
    "M1 = np.array([ [9, 12], [23,30] ])\n",
    "\n",
    "# In ra M1 để xem kết quả hiển thị trên màn hình\n",
    "print(M1)\n",
    "\n",
    "# Bạn cũng có thể kiểm tra kiểu dữ liệu và hình dạng của M1\n",
    "print(f\"Kiểu dữ liệu của M1: {type(M1)}\")\n",
    "print(f\"Hình dạng của M1 (số hàng, số cột): {M1.shape}\")"
   ]
  },
  {
   "cell_type": "code",
   "execution_count": 19,
   "metadata": {},
   "outputs": [
    {
     "name": "stdout",
     "output_type": "stream",
     "text": [
      "M1.dot(u) = [ 4 10]\n",
      "u.dot(M1) = [5 8]\n",
      "np.dot(M1, u) = [ 4 10]\n",
      "np.dot(u, M1) = [5 8]\n"
     ]
    }
   ],
   "source": [
    "import numpy as np\n",
    "\n",
    "# Khai báo ma trận M1 và vector u\n",
    "M1 = np.array([[1, 2],\n",
    "               [3, 4]])\n",
    "u = np.array([2, 1])\n",
    "\n",
    "# Phép nhân M1.dot(u)\n",
    "tichM1u = M1.dot(u)\n",
    "print(\"M1.dot(u) =\", tichM1u)  # Kết quả: [4, 10]\n",
    "\n",
    "# Phép nhân u.dot(M1)\n",
    "tichuM1 = u.dot(M1)\n",
    "print(\"u.dot(M1) =\", tichuM1)  # Kết quả: [5, 8]\n",
    "\n",
    "# Phép nhân np.dot(M1, u)\n",
    "print(\"np.dot(M1, u) =\", np.dot(M1, u))  # Kết quả: [4, 10]\n",
    "\n",
    "# Phép nhân np.dot(u, M1)\n",
    "print(\"np.dot(u, M1) =\", np.dot(u, M1))  # Kết quả: [5, 8]\n"
   ]
  },
  {
   "cell_type": "code",
   "execution_count": 20,
   "metadata": {},
   "outputs": [
    {
     "name": "stdout",
     "output_type": "stream",
     "text": [
      "mat1:\n",
      " [[0. 0. 0. 0. 0.]\n",
      " [0. 0. 0. 0. 0.]\n",
      " [0. 0. 0. 0. 0.]\n",
      " [0. 0. 0. 0. 0.]\n",
      " [0. 0. 0. 0. 0.]]\n",
      "mat2:\n",
      " [[1. 1. 1. 1. 1.]\n",
      " [1. 1. 1. 1. 1.]\n",
      " [1. 1. 1. 1. 1.]\n",
      " [1. 1. 1. 1. 1.]\n",
      " [1. 1. 1. 1. 1.]]\n",
      "mat3:\n",
      " [[2. 2. 2. 2. 2.]\n",
      " [2. 2. 2. 2. 2.]\n",
      " [2. 2. 2. 2. 2.]\n",
      " [2. 2. 2. 2. 2.]\n",
      " [2. 2. 2. 2. 2.]]\n",
      "mat3 (sau khi thay đổi [3][2] = 10):\n",
      " [[ 2.  2.  2.  2.  2.]\n",
      " [ 2.  2.  2.  2.  2.]\n",
      " [ 2.  2.  2.  2.  2.]\n",
      " [ 2.  2. 10.  2.  2.]\n",
      " [ 2.  2.  2.  2.  2.]]\n",
      "mat4 (có thay đổi theo mat3 không?):\n",
      " [[ 2.  2.  2.  2.  2.]\n",
      " [ 2.  2.  2.  2.  2.]\n",
      " [ 2.  2.  2.  2.  2.]\n",
      " [ 2.  2. 10.  2.  2.]\n",
      " [ 2.  2.  2.  2.  2.]]\n",
      "mat3 (sau khi gán lại 10):\n",
      " [[ 2.  2.  2.  2.  2.]\n",
      " [ 2.  2.  2.  2.  2.]\n",
      " [ 2.  2.  2.  2.  2.]\n",
      " [ 2.  2. 10.  2.  2.]\n",
      " [ 2.  2.  2.  2.  2.]]\n",
      "mat4 (cùng vùng nhớ với mat3):\n",
      " [[ 2.  2.  2.  2.  2.]\n",
      " [ 2.  2.  2.  2.  2.]\n",
      " [ 2.  2.  2.  2.  2.]\n",
      " [ 2.  2. 10.  2.  2.]\n",
      " [ 2.  2.  2.  2.  2.]]\n",
      "mat5 (sao chép riêng biệt):\n",
      " [[ 2.  2.  2.  2.  2.]\n",
      " [ 2.  2.  2.  2.  2.]\n",
      " [ 2.  2.  2.  2.  2.]\n",
      " [ 2.  2. 10.  2.  2.]\n",
      " [ 2.  2.  2.  2.  2.]]\n",
      "mat6 (ma trận rỗng - giá trị không xác định):\n",
      " [[1.13635099e-322 3.91785814e-315 0.00000000e+000 0.00000000e+000\n",
      "  0.00000000e+000]\n",
      " [0.00000000e+000 0.00000000e+000 0.00000000e+000 0.00000000e+000\n",
      "  4.94065646e-324]\n",
      " [0.00000000e+000 0.00000000e+000 0.00000000e+000 0.00000000e+000\n",
      "  0.00000000e+000]\n",
      " [0.00000000e+000 0.00000000e+000 0.00000000e+000 0.00000000e+000\n",
      "  1.11253693e-308]]\n",
      "mat7 (ma trận đơn vị 4x4):\n",
      " [[1. 0. 0. 0.]\n",
      " [0. 1. 0. 0.]\n",
      " [0. 0. 1. 0.]\n",
      " [0. 0. 0. 1.]]\n"
     ]
    }
   ],
   "source": [
    "import numpy as np\n",
    "\n",
    "# 1. Ma trận toàn số 0\n",
    "mat1 = np.zeros([5, 5])\n",
    "print(\"mat1:\\n\", mat1)\n",
    "\n",
    "# 2. Ma trận toàn số 1\n",
    "mat2 = np.ones([5, 5])\n",
    "print(\"mat2:\\n\", mat2)\n",
    "\n",
    "# 3. mat3 = mat1 + 2 * mat2\n",
    "mat3 = mat1 + 2 * mat2\n",
    "print(\"mat3:\\n\", mat3)\n",
    "\n",
    "# 4. Gán mat4 = mat3, sau đó thay đổi mat3\n",
    "mat4 = mat3\n",
    "mat3[3][2] = 10\n",
    "print(\"mat3 (sau khi thay đổi [3][2] = 10):\\n\", mat3)\n",
    "print(\"mat4 (có thay đổi theo mat3 không?):\\n\", mat4)\n",
    "# Kết luận: mat4 thay đổi vì nó tham chiếu đến cùng vùng nhớ với mat3\n",
    "\n",
    "# 5. Copy độc lập bằng np.copy()\n",
    "mat5 = np.copy(mat3)\n",
    "mat3[3][2] = 10  # thay đổi lại vẫn là 10, không ảnh hưởng đến mat5\n",
    "print(\"mat3 (sau khi gán lại 10):\\n\", mat3)\n",
    "print(\"mat4 (cùng vùng nhớ với mat3):\\n\", mat4)\n",
    "print(\"mat5 (sao chép riêng biệt):\\n\", mat5)\n",
    "# Kết luận: mat5 KHÔNG bị thay đổi khi mat3 thay đổi\n",
    "\n",
    "# 6. Ma trận rỗng với giá trị ngẫu nhiên (rác trong RAM)\n",
    "mat6 = np.empty([4, 5])\n",
    "print(\"mat6 (ma trận rỗng - giá trị không xác định):\\n\", mat6)\n",
    "\n",
    "# 7. Ma trận đơn vị\n",
    "mat7 = np.identity(4)\n",
    "print(\"mat7 (ma trận đơn vị 4x4):\\n\", mat7)\n",
    "\n",
    "# 8. Ma trận ngẫu nhiên (giá trị trong khoảng [0, 1))\n",
    "mat8 = np.random.random([4, 5])\n"
   ]
  }
 ],
 "metadata": {
  "kernelspec": {
   "display_name": "Python 3",
   "language": "python",
   "name": "python3"
  },
  "language_info": {
   "codemirror_mode": {
    "name": "ipython",
    "version": 3
   },
   "file_extension": ".py",
   "mimetype": "text/x-python",
   "name": "python",
   "nbconvert_exporter": "python",
   "pygments_lexer": "ipython3",
   "version": "3.10.11"
  }
 },
 "nbformat": 4,
 "nbformat_minor": 2
}
