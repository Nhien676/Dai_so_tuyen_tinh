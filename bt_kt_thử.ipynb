{
 "cells": [
  {
   "cell_type": "code",
   "execution_count": null,
   "metadata": {},
   "outputs": [
    {
     "name": "stdout",
     "output_type": "stream",
     "text": [
      "Tổng A + B là: [3 3 1 5]\n",
      "Tích số 3A - 2B là: [  4 -11  13 -10]\n"
     ]
    }
   ],
   "source": [
    "# câu 1 a \n",
    "import numpy as np\n",
    "\n",
    "# Định nghĩa các vector và ma trận\n",
    "A = np.array([2, -1, 3, 0])\n",
    "B = np.array([1, 4, -2, 5])\n",
    "C = np.array([[1, 2, -1],\n",
    "              [0, 3, 4],\n",
    "              [2, -1, 0]])\n",
    "\n",
    "# a) Tính tổng A + B và tích số 3A - 2B\n",
    "\n",
    "# Tính tổng A + B\n",
    "sum_AB = A + B\n",
    "print(\"Tổng A + B là:\", sum_AB)\n",
    "\n",
    "# Tính tích số 3A - 2B\n",
    "result_3A_2B = 3 * A - 2 * B\n",
    "print(\"Tích số 3A - 2B là:\", result_3A_2B)"
   ]
  },
  {
   "cell_type": "code",
   "execution_count": null,
   "metadata": {},
   "outputs": [
    {
     "name": "stdout",
     "output_type": "stream",
     "text": [
      "Tích vô hướng A · B là: -8\n",
      "Góc giữa hai vector A và B là (độ): 108.376\n"
     ]
    }
   ],
   "source": [
    "#câu 1 b\n",
    "import numpy as np\n",
    "\n",
    "# Định nghĩa các vector\n",
    "A = np.array([2, -1, 3, 0])\n",
    "B = np.array([1, 4, -2, 5])\n",
    "\n",
    "# b) Tính tích vô hướng A · B và góc giữa hai vector\n",
    "dot_product_AB = np.dot(A, B)\n",
    "print(\"Tích vô hướng A · B là:\", dot_product_AB)\n",
    "norm_A = np.linalg.norm(A)\n",
    "norm_B = np.linalg.norm(B)\n",
    "if norm_A == 0 or norm_B == 0:\n",
    "    print(\"Không thể tính góc nếu một trong các vector có độ dài bằng 0.\")\n",
    "else:\n",
    "    cos_theta = dot_product_AB / (norm_A * norm_B)\n",
    "    cos_theta = np.clip(cos_theta, -1.0, 1.0)\n",
    "    theta_rad = np.arccos(cos_theta)\n",
    "    theta_deg = np.degrees(theta_rad)\n",
    "    theta_deg_rounded = round(theta_deg, 3)\n",
    "    print(\"Góc giữa hai vector A và B là (độ):\", theta_deg_rounded)"
   ]
  },
  {
   "cell_type": "code",
   "execution_count": null,
   "metadata": {},
   "outputs": [
    {
     "name": "stdout",
     "output_type": "stream",
     "text": [
      "Ma trận chuyển vị C^T là:\n",
      " [[ 1  0  2]\n",
      " [ 2  3 -1]\n",
      " [-1  4  0]]\n",
      "Tích ma trận C^T C là:\n",
      " [[ 5  0 -1]\n",
      " [ 0 14 10]\n",
      " [-1 10 17]]\n"
     ]
    }
   ],
   "source": [
    "# câu 1 c\n",
    "import numpy as np\n",
    "C = np.array([[1, 2, -1],\n",
    "              [0, 3, 4],\n",
    "              [2, -1, 0]])\n",
    "C_transpose = C.T\n",
    "print(\"Ma trận chuyển vị C^T là:\\n\", C_transpose)\n",
    "product_CTC = np.dot(C_transpose, C)\n",
    "print(\"Tích ma trận C^T C là:\\n\", product_CTC)"
   ]
  },
  {
   "cell_type": "code",
   "execution_count": null,
   "metadata": {},
   "outputs": [
    {
     "name": "stdout",
     "output_type": "stream",
     "text": [
      "Tích ma trận M × N là:\n",
      " [[ 32  38  44  50]\n",
      " [ 80  96 112 128]\n",
      " [128 154 180 206]\n",
      " [ 12  14  16  18]]\n"
     ]
    }
   ],
   "source": [
    "#câu 2 a \n",
    "import numpy as np\n",
    "\n",
    "# Định nghĩa các ma trận M và N\n",
    "M = np.array([[1, 2, 3, 0],\n",
    "              [4, 5, 6, 1],\n",
    "              [7, 8, 9, 2],\n",
    "              [0, 1, 1, 0]])\n",
    "\n",
    "N = np.array([[0, 1, 2, 3],\n",
    "              [4, 5, 6, 7],\n",
    "              [8, 9, 10, 11],\n",
    "              [12, 13, 14, 15]])\n",
    "\n",
    "# a) Tính tích ma trận M × N\n",
    "\n",
    "product_MN = np.dot(M, N)\n",
    "print(\"Tích ma trận M × N là:\\n\", product_MN)"
   ]
  },
  {
   "cell_type": "code",
   "execution_count": 7,
   "metadata": {},
   "outputs": [
    {
     "name": "stdout",
     "output_type": "stream",
     "text": [
      "Định thức của ma trận M là: 6.66133814775094e-16\n"
     ]
    }
   ],
   "source": [
    "# cau 2b\n",
    "import numpy as np\n",
    "\n",
    "# Định nghĩa ma trận M\n",
    "M = np.array([[1, 2, 3, 0],\n",
    "              [4, 5, 6, 1],\n",
    "              [7, 8, 9, 2],\n",
    "              [0, 1, 1, 0]])\n",
    "\n",
    "# b) Tính định thức của ma trận M\n",
    "rows, cols = M.shape\n",
    "if rows != cols:\n",
    "    print(\"Không thể tính định thức vì ma trận M không phải là ma trận vuông.\")\n",
    "else:\n",
    "    determinant_M = np.linalg.det(M)\n",
    "    print(\"Định thức của ma trận M là:\", determinant_M)"
   ]
  },
  {
   "cell_type": "code",
   "execution_count": 8,
   "metadata": {},
   "outputs": [
    {
     "name": "stdout",
     "output_type": "stream",
     "text": [
      "Hạng của ma trận N là: 2\n"
     ]
    }
   ],
   "source": [
    "# câu 2c\n",
    "import numpy as np\n",
    "N = np.array([[0, 1, 2, 3],\n",
    "              [4, 5, 6, 7],\n",
    "              [8, 9, 10, 11],\n",
    "              [12, 13, 14, 15]])\n",
    "\n",
    "# c) Tính hạng của ma trận N\n",
    "\n",
    "rank_N = np.linalg.matrix_rank(N)\n",
    "print(\"Hạng của ma trận N là:\", rank_N)"
   ]
  },
  {
   "cell_type": "code",
   "execution_count": 19,
   "metadata": {},
   "outputs": [
    {
     "name": "stdout",
     "output_type": "stream",
     "text": [
      "Định thức của ma trận P: 86.00\n",
      "Ma trận nghịch đảo của P:\n",
      "[[ 0.48837209 -0.09302326  0.02325581 -0.20930233]\n",
      " [ 0.03488372  0.27906977 -0.06976744  0.12790698]\n",
      " [-0.11627907  0.06976744  0.23255814 -0.09302326]\n",
      " [-0.01162791 -0.09302326  0.02325581  0.29069767]]\n"
     ]
    }
   ],
   "source": [
    "# câu 3 aa\n",
    "import numpy as np\n",
    "\n",
    "# Định nghĩa ma trận P\n",
    "P = np.array([[2, 1, 0, 1],\n",
    "              [0, 3, 1, -1],\n",
    "              [1, 0, 4, 2],\n",
    "              [0, 1, 0, 3]])\n",
    "\n",
    "# Tính định thức để kiểm tra khả nghịch\n",
    "det_P = np.linalg.det(P)\n",
    "print(f\"Định thức của ma trận P: {det_P:.2f}\")\n",
    "\n",
    "if det_P != 0:\n",
    "    P_inv = np.linalg.inv(P)\n",
    "    print(\"Ma trận nghịch đảo của P:\")\n",
    "    print(P_inv)\n",
    "else:\n",
    "    print(\"Ma trận P không khả nghịch vì định thức bằng 0\")"
   ]
  },
  {
   "cell_type": "code",
   "execution_count": null,
   "metadata": {},
   "outputs": [
    {
     "name": "stdout",
     "output_type": "stream",
     "text": [
      "\n",
      "Nghiệm của hệ phương trình:\n",
      "x = 0.47\n",
      "y = 2.10\n",
      "z = 1.65\n",
      "w = 0.97\n"
     ]
    }
   ],
   "source": [
    "#câu 3 b\n",
    "\n",
    "# Vector hằng số\n",
    "b = np.array([4, 7, 9, 5])\n",
    "\n",
    "# Giải hệ phương trình Px = b bằng nghịch đảo ma trận\n",
    "if det_P != 0:\n",
    "    x = np.dot(P_inv, b)\n",
    "    print(\"\\nNghiệm của hệ phương trình:\")\n",
    "    print(f\"x = {x[0]:.2f}\")\n",
    "    print(f\"y = {x[1]:.2f}\")\n",
    "    print(f\"z = {x[2]:.2f}\")\n",
    "    print(f\"w = {x[3]:.2f}\")\n",
    "else:\n",
    "    print(\"Không thể giải hệ phương trình vì ma trận P không khả nghịch\")"
   ]
  },
  {
   "cell_type": "code",
   "execution_count": null,
   "metadata": {},
   "outputs": [
    {
     "name": "stdout",
     "output_type": "stream",
     "text": [
      "\n",
      "Kiểm tra nghiệm:\n",
      "Vector hằng số ban đầu: [4 7 9 5]\n",
      "Vector tính được từ nghiệm: [4. 7. 9. 5.]\n",
      "Sai số: 0.0000000000\n",
      "Nghiệm chính xác\n"
     ]
    }
   ],
   "source": [
    "#câu 3 c\n",
    "if det_P != 0:\n",
    "    # Tính P nhân với vector nghiệm\n",
    "    b_check = np.dot(P, x)\n",
    "    \n",
    "    print(\"\\nKiểm tra nghiệm:\")\n",
    "    print(\"Vector hằng số ban đầu:\", b)\n",
    "    print(\"Vector tính được từ nghiệm:\", b_check)\n",
    "    \n",
    "    # Kiểm tra sai số\n",
    "    error = np.linalg.norm(b - b_check)\n",
    "    print(f\"Sai số: {error:.10f}\")\n",
    "    \n",
    "    if error < 1e-10:\n",
    "        print(\"Nghiệm chính xác\")\n",
    "    else:\n",
    "        print(\"Nghiệm có sai số đáng kể\")\n",
    "else:\n",
    "    print(\"Không thể kiểm tra nghiệm vì ma trận P không khả nghịch\")"
   ]
  },
  {
   "cell_type": "code",
   "execution_count": 13,
   "metadata": {},
   "outputs": [
    {
     "name": "stdout",
     "output_type": "stream",
     "text": [
      "Các giá trị riêng của ma trận Q:\n",
      "λ1 = 3.4534+0.0000j\n",
      "λ2 = 2.7733+1.4677j\n",
      "λ3 = 2.7733-1.4677j\n"
     ]
    }
   ],
   "source": [
    "# câu 4 a\n",
    "import numpy as np\n",
    "\n",
    "# Định nghĩa ma trận Q\n",
    "Q = np.array([[4, -1, 0],\n",
    "              [1, 3, -2],\n",
    "              [0, 1, 2]])\n",
    "\n",
    "# Tính các giá trị riêng\n",
    "eigenvalues = np.linalg.eigvals(Q)\n",
    "print(\"Các giá trị riêng của ma trận Q:\")\n",
    "for i, val in enumerate(eigenvalues, 1):\n",
    "    print(f\"λ{i} = {val:.4f}\")"
   ]
  },
  {
   "cell_type": "code",
   "execution_count": null,
   "metadata": {},
   "outputs": [
    {
     "name": "stdout",
     "output_type": "stream",
     "text": [
      "\n",
      "Các vector riêng tương ứng:\n",
      "Vector riêng ứng với λ1 = 3.4534+0.0000j:\n",
      "[0.83327121+0.j 0.455468  +0.j 0.31338154+0.j]\n",
      "Vector riêng ứng với λ2 = 2.7733+1.4677j:\n",
      "[-0.26206044-0.31354813j -0.78166743+0.j         -0.21963176+0.41685708j]\n",
      "Vector riêng ứng với λ3 = 2.7733-1.4677j:\n",
      "[-0.26206044+0.31354813j -0.78166743-0.j         -0.21963176-0.41685708j]\n"
     ]
    }
   ],
   "source": [
    "# 4 b\n",
    "# Tính cả giá trị riêng và vector riêng\n",
    "eigenvalues, eigenvectors = np.linalg.eig(Q)\n",
    "\n",
    "print(\"\\nCác vector riêng tương ứng:\")\n",
    "for i in range(len(eigenvalues)):\n",
    "    print(f\"Vector riêng ứng với λ{i+1} = {eigenvalues[i]:.4f}:\")\n",
    "    print(eigenvectors[:, i])"
   ]
  },
  {
   "cell_type": "code",
   "execution_count": 16,
   "metadata": {},
   "outputs": [
    {
     "name": "stdout",
     "output_type": "stream",
     "text": [
      "\n",
      "Các vector riêng đã chuẩn hóa:\n",
      "Vector riêng ứng với λ1 = 3.4534+0.0000j sau chuẩn hóa:\n",
      "[0.83327121+0.j 0.455468  +0.j 0.31338154+0.j]\n",
      "Độ dài vector sau chuẩn hóa: 1.00000000\n",
      "\n",
      "Vector riêng ứng với λ2 = 2.7733+1.4677j sau chuẩn hóa:\n",
      "[-0.26206044-0.31354813j -0.78166743+0.j         -0.21963176+0.41685708j]\n",
      "Độ dài vector sau chuẩn hóa: 1.00000000\n",
      "\n",
      "Vector riêng ứng với λ3 = 2.7733-1.4677j sau chuẩn hóa:\n",
      "[-0.26206044+0.31354813j -0.78166743+0.j         -0.21963176-0.41685708j]\n",
      "Độ dài vector sau chuẩn hóa: 1.00000000\n",
      "\n"
     ]
    }
   ],
   "source": [
    "#c\n",
    "def normalize_vector(v):\n",
    "    \"\"\"Chuẩn hóa vector về độ dài bằng 1\"\"\"\n",
    "    norm = np.linalg.norm(v)\n",
    "    return v / norm\n",
    "\n",
    "print(\"\\nCác vector riêng đã chuẩn hóa:\")\n",
    "for i in range(len(eigenvalues)):\n",
    "    original_vec = eigenvectors[:, i]\n",
    "    normalized_vec = normalize_vector(original_vec)\n",
    "    \n",
    "    print(f\"Vector riêng ứng với λ{i+1} = {eigenvalues[i]:.4f} sau chuẩn hóa:\")\n",
    "    print(normalized_vec)\n",
    "    \n",
    "    # Kiểm tra độ dài vector đã chuẩn hóa\n",
    "    norm_check = np.linalg.norm(normalized_vec)\n",
    "    print(f\"Độ dài vector sau chuẩn hóa: {norm_check:.8f}\\n\")"
   ]
  },
  {
   "cell_type": "code",
   "execution_count": null,
   "metadata": {},
   "outputs": [],
   "source": [
    "#câu 5aa\n",
    "import numpy as np\n",
    "\n",
    "# Định nghĩa ma trận hệ số R\n",
    "R = np.array([\n",
    "    [1, -2, 3],\n",
    "    [2, 0, 1],\n",
    "    [-1, 1, 4]\n",
    "])\n",
    "b = np.array([10, 8, 7])\n",
    "\n",
    "print(\"Ma trận R:\")\n",
    "print(R)\n",
    "print(\"\\nVector b:\")\n",
    "print(b)\n",
    "\n",
    "# Giải hệ phương trình Rx = b bằng np.linalg.solve()\n",
    "try:\n",
    "    x_solution = np.linalg.solve(R, b)\n",
    "    print(\"\\nNghiệm của hệ phương trình Rx = b (sử dụng np.linalg.solve()):\")\n",
    "    print(x_solution)\n",
    "except np.linalg.LinAlgError as e:\n",
    "    print(f\"\\nLỗi: {e}\")\n",
    "    print(\"Ma trận R có thể là ma trận suy biến (không khả nghịch).\")"
   ]
  },
  {
   "cell_type": "code",
   "execution_count": 17,
   "metadata": {},
   "outputs": [
    {
     "name": "stdout",
     "output_type": "stream",
     "text": [
      "Ma trận R:\n",
      "[[ 1 -2  3]\n",
      " [ 2  0  1]\n",
      " [-1  1  4]]\n",
      "\n",
      "Định thức của R (det(R)): 23.0\n",
      "\n",
      "Ma trận R khả nghịch vì định thức của nó khác 0.\n",
      "\n",
      "Ma trận nghịch đảo của R (R_inv):\n",
      "[[-0.04347826  0.47826087 -0.08695652]\n",
      " [-0.39130435  0.30434783  0.2173913 ]\n",
      " [ 0.08695652  0.04347826  0.17391304]]\n",
      "\n",
      "Nghiệm của hệ phương trình Rx = b (sử dụng ma trận nghịch đảo):\n",
      "[2.7826087  0.04347826 2.43478261]\n",
      "\n",
      "So sánh nghiệm:\n",
      "Nghiệm từ np.linalg.solve(): [2.7826087  0.04347826 2.43478261]\n",
      "Nghiệm từ ma trận nghịch đảo:  [2.7826087  0.04347826 2.43478261]\n",
      "\n",
      "Hai nghiệm hoàn toàn khớp nhau (hoặc rất gần nhau, trong giới hạn sai số dấu phẩy động).\n"
     ]
    }
   ],
   "source": [
    "# 5b/\n",
    "import numpy as np\n",
    "\n",
    "# Định nghĩa lại ma trận R và vector b từ câu a) nếu chưa chạy lại kernel\n",
    "R = np.array([\n",
    "    [1, -2, 3],\n",
    "    [2, 0, 1],\n",
    "    [-1, 1, 4]\n",
    "])\n",
    "b = np.array([10, 8, 7])\n",
    "\n",
    "print(\"Ma trận R:\")\n",
    "print(R)\n",
    "\n",
    "# Bước 1: Xác định xem ma trận R có khả nghịch không bằng cách tính định thức\n",
    "det_R = np.linalg.det(R)\n",
    "print(f\"\\nĐịnh thức của R (det(R)): {det_R}\")\n",
    "\n",
    "# np.isclose() được dùng để so sánh số thực với 0, tránh lỗi dấu phẩy động\n",
    "if np.isclose(det_R, 0):\n",
    "    print(\"\\nMa trận R không khả nghịch vì định thức của nó bằng 0 (hoặc rất gần 0).\")\n",
    "else:\n",
    "    print(\"\\nMa trận R khả nghịch vì định thức của nó khác 0.\")\n",
    "    R_inv = np.linalg.inv(R)\n",
    "    print(\"\\nMa trận nghịch đảo của R (R_inv):\")\n",
    "    print(np.around(R_inv, decimals=8)) \n",
    "\n",
    "    x_solution_inv = np.dot(R_inv, b)\n",
    "    print(\"\\nNghiệm của hệ phương trình Rx = b (sử dụng ma trận nghịch đảo):\")\n",
    "    print(np.around(x_solution_inv, decimals=8)) \n",
    "    try:\n",
    "        x_solution_from_solve = np.linalg.solve(R, b) # Tính lại để đảm bảo có biến này\n",
    "        print(\"\\nSo sánh nghiệm:\")\n",
    "        print(f\"Nghiệm từ np.linalg.solve(): {np.around(x_solution_from_solve, decimals=8)}\")\n",
    "        print(f\"Nghiệm từ ma trận nghịch đảo:  {np.around(x_solution_inv, decimals=8)}\")\n",
    "        if np.allclose(x_solution_from_solve, x_solution_inv):\n",
    "            print(\"\\nHai nghiệm hoàn toàn khớp nhau (hoặc rất gần nhau, trong giới hạn sai số dấu phẩy động).\")\n",
    "        else:\n",
    "            print(\"\\nHai nghiệm có sự khác biệt nhỏ.\")\n",
    "    except NameError:\n",
    "        print(\"\\nKhông thể so sánh vì nghiệm từ câu a) chưa được tính hoặc biến chưa tồn tại.\")"
   ]
  },
  {
   "cell_type": "code",
   "execution_count": 18,
   "metadata": {},
   "outputs": [
    {
     "name": "stdout",
     "output_type": "stream",
     "text": [
      "Ma trận R:\n",
      "[[ 1 -2  3]\n",
      " [ 2  0  1]\n",
      " [-1  1  4]]\n",
      "\n",
      "Chuẩn Frobenius của ma trận R: 6.082762530298219\n",
      "Chuẩn Frobenius tính thủ công: 6.082762530298219\n"
     ]
    }
   ],
   "source": [
    "# 5c\n",
    "import numpy as np\n",
    "\n",
    "# Định nghĩa lại ma trận R từ các phần trước\n",
    "R = np.array([\n",
    "    [1, -2, 3],\n",
    "    [2, 0, 1],\n",
    "    [-1, 1, 4]\n",
    "])\n",
    "\n",
    "print(\"Ma trận R:\")\n",
    "print(R)\n",
    "frobenius_norm_R = np.linalg.norm(R, 'fro')\n",
    "\n",
    "print(f\"\\nChuẩn Frobenius của ma trận R: {frobenius_norm_R}\")\n",
    "\n",
    "sum_of_squares = 0\n",
    "for row in R:\n",
    "    for element in row:\n",
    "        sum_of_squares += element**2\n",
    "        manual_frobenius_norm = np.sqrt(sum_of_squares)\n",
    "print(f\"Chuẩn Frobenius tính thủ công: {manual_frobenius_norm}\")"
   ]
  }
 ],
 "metadata": {
  "kernelspec": {
   "display_name": "Python 3",
   "language": "python",
   "name": "python3"
  },
  "language_info": {
   "codemirror_mode": {
    "name": "ipython",
    "version": 3
   },
   "file_extension": ".py",
   "mimetype": "text/x-python",
   "name": "python",
   "nbconvert_exporter": "python",
   "pygments_lexer": "ipython3",
   "version": "3.10.11"
  }
 },
 "nbformat": 4,
 "nbformat_minor": 2
}
