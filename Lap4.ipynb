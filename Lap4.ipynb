{
 "cells": [
  {
   "cell_type": "markdown",
   "metadata": {},
   "source": [
    "### CHƯƠNG 4: CƠ BẢN VỀ ĐỊNH THỨC \n"
   ]
  },
  {
   "cell_type": "markdown",
   "metadata": {},
   "source": [
    "#### 1. Định thức và các tính chất\n",
    "##### Phép thế của một tập hợp hữu hạn: "
   ]
  },
  {
   "cell_type": "code",
   "execution_count": 2,
   "metadata": {},
   "outputs": [
    {
     "name": "stdout",
     "output_type": "stream",
     "text": [
      "sgn([2,1,3,4]) = -1\n",
      "sgn([1,2,3,4]) = 1\n",
      "sgn([4,3,2,1]) = 1\n"
     ]
    }
   ],
   "source": [
    "import numpy as np\n",
    "\n",
    "# Số phần tử trong hoán vị\n",
    "n = 4\n",
    "\n",
    "# Mảng X gốc từ 1 đến n\n",
    "X = np.array(range(1, n+1))\n",
    "\n",
    "# Hàm tính dấu (chữ ký) của hoán vị theo định nghĩa\n",
    "def sgn_by_def(sigma):\n",
    "    ket_qua = 1.0\n",
    "    for i in range(len(X) - 1):\n",
    "        for j in range(i + 1, len(X)):\n",
    "            ket_qua = ket_qua * ((X[i] - X[j]) / (sigma[i] - sigma[j]))\n",
    "    return int(ket_qua)\n",
    "\n",
    "# Trường hợp 1: hoán vị [2,1,3,4]\n",
    "sigma = np.array([2,1,3,4])\n",
    "print(\"sgn([2,1,3,4]) =\", sgn_by_def(sigma))  # Kết quả: -1\n",
    "\n",
    "# Trường hợp 2: hoán vị [1,2,3,4]\n",
    "sigma = np.array([1,2,3,4])\n",
    "print(\"sgn([1,2,3,4]) =\", sgn_by_def(sigma))  \n",
    "\n",
    "sigma = np.array([4,3,2,1])\n",
    "print(\"sgn([4,3,2,1]) =\", sgn_by_def(sigma))  \n"
   ]
  },
  {
   "cell_type": "markdown",
   "metadata": {},
   "source": [
    "#### Định thức\n"
   ]
  },
  {
   "cell_type": "code",
   "execution_count": 7,
   "metadata": {},
   "outputs": [
    {
     "name": "stdout",
     "output_type": "stream",
     "text": [
      "Các hoán vị của tập X là:\n",
      "[(1, 2, 3), (1, 3, 2), (2, 1, 3), (2, 3, 1), (3, 1, 2), (3, 2, 1)]\n"
     ]
    }
   ],
   "source": [
    "from itertools import permutations\n",
    "\n",
    "# Khởi tạo n\n",
    "n = 3\n",
    "\n",
    "# Tạo mảng X = [1, 2, ..., n]\n",
    "X = []\n",
    "for i in range(1, n + 1):\n",
    "    X.append(i)\n",
    "\n",
    "# Sinh tất cả các hoán vị của tập X\n",
    "Sn = list(permutations(X))\n",
    "\n",
    "# In ra tập các hoán vị\n",
    "print(\"Các hoán vị của tập X là:\")\n",
    "print(Sn)\n",
    "\n",
    "\n"
   ]
  },
  {
   "cell_type": "code",
   "execution_count": 10,
   "metadata": {},
   "outputs": [
    {
     "name": "stdout",
     "output_type": "stream",
     "text": [
      "Định thức của ma trận A là: 22\n",
      "So sánh với np.linalg.det: 22\n"
     ]
    }
   ],
   "source": [
    "from itertools import permutations\n",
    "import numpy as np\n",
    "\n",
    "# Bước 1: Khởi tạo ma trận A\n",
    "A = np.array([[1, 2, 3],\n",
    "              [0, 4, 5],\n",
    "              [1, 0, 6]])\n",
    "\n",
    "n = A.shape[0]  # Kích thước ma trận\n",
    "\n",
    "# Bước 2: Sinh các hoán vị của tập {0, 1, ..., n-1}\n",
    "indices = list(range(n))\n",
    "Sn = list(permutations(indices))  # Ví dụ: [(0,1,2), (0,2,1), ...]\n",
    "\n",
    "# Bước 3: Hàm tính dấu hoán vị bằng công thức theo định nghĩa\n",
    "def sgn(sigma):\n",
    "    result = 1.0\n",
    "    X = np.array(range(1, n+1))      # X = [1, 2, ..., n]\n",
    "    sigma_arr = np.array([s + 1 for s in sigma])  # Chuyển hoán vị sang 1-based index\n",
    "    for i in range(n - 1):\n",
    "        for j in range(i + 1, n):\n",
    "            numerator = X[i] - X[j]\n",
    "            denominator = sigma_arr[i] - sigma_arr[j]\n",
    "            result *= numerator / denominator\n",
    "    return int(result)\n",
    "\n",
    "# Bước 4: Tính định thức theo công thức tổng quát\n",
    "det = 0\n",
    "for sigma in Sn:\n",
    "    product = 1\n",
    "    for i in range(n):\n",
    "        product *= A[i][sigma[i]]\n",
    "    det += sgn(sigma) * product\n",
    "\n",
    "# Kết quả\n",
    "print(\"Định thức của ma trận A là:\", det)\n",
    "\n",
    "# Kiểm tra với numpy\n",
    "print(\"So sánh với np.linalg.det:\", round(np.linalg.det(A)))\n"
   ]
  },
  {
   "cell_type": "markdown",
   "metadata": {},
   "source": [
    "#### 3. Quy tắc Cramer \n"
   ]
  },
  {
   "cell_type": "code",
   "execution_count": null,
   "metadata": {},
   "outputs": [
    {
     "name": "stdout",
     "output_type": "stream",
     "text": [
      "-14.0 -28.0 14.000000000000004\n",
      "Hai nghiệm của phương trình là:  2.0 -1.0000000000000002\n"
     ]
    }
   ],
   "source": [
    "import numpy as np\n",
    "from scipy import linalg\n",
    "\n",
    "\n",
    "A = np.array([[4, -2], [3, -5]])      \n",
    "A1 = np.array([[10, -2], [11, -5]])   \n",
    "A2 = np.array([[4, 10], [3, 11]])  \n",
    "\n",
    "detA = linalg.det(A)\n",
    "detA1 = linalg.det(A1)\n",
    "detA2 = linalg.det(A2)\n",
    "\n",
    "print(detA, detA1, detA2)\n",
    "\n",
    "if detA != 0:\n",
    "        x1 = detA1 / detA\n",
    "        x2 = detA2 / detA\n",
    "        print(\"Hai nghiệm của phương trình là: \", x1, x2)\n"
   ]
  },
  {
   "cell_type": "code",
   "execution_count": 13,
   "metadata": {},
   "outputs": [
    {
     "name": "stdout",
     "output_type": "stream",
     "text": [
      "detA = -14.0\n",
      "detA1 = -28.0\n",
      "detA2 = 14.000000000000004\n",
      "Hai nghiệm của phương trình là: x1 = 2.0 , x2 = -1.0000000000000002\n"
     ]
    }
   ],
   "source": [
    "# Bước 1: Import thư viện\n",
    "import numpy as np\n",
    "from scipy import linalg\n",
    "\n",
    "# Bước 2: Khai báo các ma trận\n",
    "A = np.array([[4, -2], [3, -5]])       # Ma trận hệ số\n",
    "A1 = np.array([[10, -2], [11, -5]])    # Thay cột 1 bằng vế phải\n",
    "A2 = np.array([[4, 10], [3, 11]])      # Thay cột 2 bằng vế phải\n",
    "\n",
    "# Bước 3: Định nghĩa hàm tính định thức\n",
    "def tinhtoan_dinhthuc(matrix):\n",
    "    return linalg.det(matrix)\n",
    "\n",
    "# Bước 4: Sử dụng hàm để tính định thức các ma trận\n",
    "detA = tinhtoan_dinhthuc(A)\n",
    "detA1 = tinhtoan_dinhthuc(A1)\n",
    "detA2 = tinhtoan_dinhthuc(A2)\n",
    "\n",
    "# Bước 5: In định thức ra để kiểm tra\n",
    "print(\"detA =\", detA)\n",
    "print(\"detA1 =\", detA1)\n",
    "print(\"detA2 =\", detA2)\n",
    "\n",
    "# Bước 6: Giải hệ phương trình nếu detA khác 0\n",
    "if detA != 0:\n",
    "    x1 = detA1 / detA\n",
    "    x2 = detA2 / detA\n",
    "    print(\"Hai nghiệm của phương trình là: x1 =\", x1, \", x2 =\", x2)\n",
    "else:\n",
    "    print(\"Hệ phương trình vô nghiệm hoặc vô số nghiệm (detA = 0)\")\n"
   ]
  },
  {
   "cell_type": "markdown",
   "metadata": {},
   "source": [
    "#### Hệ ba phương trình tuyến tính bậc 1\n"
   ]
  },
  {
   "cell_type": "code",
   "execution_count": null,
   "metadata": {},
   "outputs": [
    {
     "name": "stdout",
     "output_type": "stream",
     "text": [
      "detA = 0.0 , detX = 0.0 , detY = 0.0 , detZ = 0.0\n",
      "Hệ phương trình vô nghiệm hoặc vô số nghiệm\n"
     ]
    }
   ],
   "source": [
    "import numpy as np\n",
    "from scipy import linalg\n",
    "\n",
    "# Khai báo ma trận A và các ma trận A1, A2, A3\n",
    "A = np.array([[-1, 2, -3],\n",
    "              [2, -2, 1],\n",
    "              [3, -4, 4]])\n",
    "\n",
    "A1 = np.array([[1, 2, -3],\n",
    "               [3, -2, 1],\n",
    "               [2, -4, 4]])\n",
    "\n",
    "A2 = np.array([[-1, 1, -3],\n",
    "               [2, 3, 1],\n",
    "               [3, 2, 4]])\n",
    "\n",
    "A3 = np.array([[-1, 2, 1],\n",
    "               [2, -2, 3],\n",
    "               [3, -4, 2]])\n",
    "\n",
    "# Tính các định thức\n",
    "det = linalg.det(A)\n",
    "detX = linalg.det(A1)\n",
    "detY = linalg.det(A2)\n",
    "detZ = linalg.det(A3)\n",
    "\n",
    "# In kết quả định thức\n",
    "print(\"detA =\", det, \", detX =\", detX, \", detY =\", detY, \", detZ =\", detZ)\n",
    "\n",
    "# Tính nghiệm nếu định thức khác 0\n",
    "if det != 0:\n",
    "    x = detX / det\n",
    "    y = detY / det\n",
    "    z = detZ / det\n",
    "    print(\"Nghiệm: x =\", x, \", y =\", y, \", z =\", z)\n",
    "else:\n",
    "    print(\"Hệ phương trình vô nghiệm hoặc vô số nghiệm\")\n"
   ]
  },
  {
   "cell_type": "code",
   "execution_count": 17,
   "metadata": {},
   "outputs": [
    {
     "name": "stdout",
     "output_type": "stream",
     "text": [
      "detA = 0.0 , detX = 0.0 , detY = 0.0 , detZ = 0.0\n",
      "Hệ phương trình vô nghiệm hoặc vô số nghiệm\n"
     ]
    }
   ],
   "source": [
    "import numpy as np\n",
    "from scipy import linalg\n",
    "\n",
    "# Khai báo ma trận A và các ma trận A1, A2, A3\n",
    "A = np.array([[-1, 2, -3],\n",
    "              [2, -2, 1],\n",
    "              [3, -4, 4]])\n",
    "\n",
    "A1 = np.array([[1, 2, -3],\n",
    "               [3, -2, 1],\n",
    "               [2, -4, 4]])\n",
    "\n",
    "A2 = np.array([[-1, 1, -3],\n",
    "               [2, 3, 1],\n",
    "               [3, 2, 4]])\n",
    "\n",
    "A3 = np.array([[-1, 2, 1],\n",
    "               [2, -2, 3],\n",
    "               [3, -4, 2]])\n",
    "\n",
    "# Tính các định thức\n",
    "det = linalg.det(A)\n",
    "detX = linalg.det(A1)\n",
    "detY = linalg.det(A2)\n",
    "detZ = linalg.det(A3)\n",
    "\n",
    "# In kết quả định thức\n",
    "print(\"detA =\", det, \", detX =\", detX, \", detY =\", detY, \", detZ =\", detZ)\n",
    "\n",
    "# Tính nghiệm nếu định thức khác 0\n",
    "if det != 0:\n",
    "    x = detX / det\n",
    "    y = detY / det\n",
    "    z = detZ / det\n",
    "    print(\"Nghiệm: x =\", x, \", y =\", y, \", z =\", z)\n",
    "else:\n",
    "    print(\"Hệ phương trình vô nghiệm hoặc vô số nghiệm\")\n"
   ]
  },
  {
   "cell_type": "markdown",
   "metadata": {},
   "source": [
    "##### Phương trình mặt phẳng "
   ]
  },
  {
   "cell_type": "code",
   "execution_count": 18,
   "metadata": {},
   "outputs": [
    {
     "name": "stdout",
     "output_type": "stream",
     "text": [
      "Phương trình mặt phẳng là:\n",
      "-4⋅x + 3⋅y - 5⋅z - 3 = 0\n"
     ]
    }
   ],
   "source": [
    "from sympy import symbols, Matrix, simplify, Eq, pprint\n",
    "x, y, z = symbols('x y z')\n",
    "MP = Matrix([\n",
    "    [x, y, z, 1],      \n",
    "    [-1, 3, 2, 1],     \n",
    "    [0, 1, 0, 1],      \n",
    "    [-2, 0, 1, 1]      \n",
    "])\n",
    "pt_mat_phang = simplify(MP.det())\n",
    "print(\"Phương trình mặt phẳng là:\")\n",
    "pprint(Eq(pt_mat_phang, 0))  "
   ]
  },
  {
   "cell_type": "markdown",
   "metadata": {},
   "source": [
    "#### Bài tập chương 4"
   ]
  },
  {
   "cell_type": "code",
   "execution_count": 19,
   "metadata": {},
   "outputs": [
    {
     "name": "stdout",
     "output_type": "stream",
     "text": [
      "Ma trận A:\n",
      "Matrix([[2, -3, 1], [2, 0, -1], [1, 4, 5]])\n",
      "\n",
      "Ma trận hệ số kẹp (Cofactor matrix):\n",
      "Matrix([[4, -11, 8], [19, 9, -11], [3, 4, 6]])\n",
      "\n",
      "Ma trận liên hợp (Adjoint matrix):\n",
      "Matrix([[4, 19, 3], [-11, 9, 4], [8, -11, 6]])\n"
     ]
    }
   ],
   "source": [
    "#Câu 1\n",
    "from sympy import Matrix\n",
    "\n",
    "# Bước 1: Khai báo ma trận A (ví dụ: 3x3)\n",
    "A = Matrix([[2, -3, 1],\n",
    "            [2, 0, -1],\n",
    "            [1, 4, 5]])\n",
    "\n",
    "# Bước 2: Tính ma trận hệ số kẹp (cofactor matrix)\n",
    "cofactor_matrix = A.cofactor_matrix()\n",
    "\n",
    "# Bước 3: Tính ma trận liên hợp (adjoint matrix)\n",
    "adjoint_matrix = A.adjugate()\n",
    "\n",
    "# Bước 4: In kết quả\n",
    "print(\"Ma trận A:\")\n",
    "print(A)\n",
    "\n",
    "print(\"\\nMa trận hệ số kẹp (Cofactor matrix):\")\n",
    "print(cofactor_matrix)\n",
    "\n",
    "print(\"\\nMa trận liên hợp (Adjoint matrix):\")\n",
    "print(adjoint_matrix)\n"
   ]
  },
  {
   "cell_type": "code",
   "execution_count": 20,
   "metadata": {},
   "outputs": [
    {
     "name": "stdout",
     "output_type": "stream",
     "text": [
      "Giải phương trình elip qua 5 điểm:\n",
      "Giá trị p (1/a^2): 0.33333333333333337\n",
      "Giá trị q (1/b^2): 0.9999999999999998\n",
      "a^2 = 2.9999999999999996\n",
      "b^2 = 1.0000000000000002\n",
      "Phương trình elip: x^2/2.9999999999999996 + y^2/1.0000000000000002 = 1\n",
      "Điểm (1, 0): 0.33333333333333337 (nên gần 1 nếu đúng)\n",
      "Điểm (-1, 0): 0.33333333333333337 (nên gần 1 nếu đúng)\n",
      "Điểm (0, 1): 0.9999999999999998 (nên gần 1 nếu đúng)\n",
      "Điểm (0, -1): 0.9999999999999998 (nên gần 1 nếu đúng)\n",
      "Điểm (2, 0): 1.3333333333333335 (nên gần 1 nếu đúng)\n"
     ]
    }
   ],
   "source": [
    "# Câu 2\n",
    "# Import các thư viện cần thiết\n",
    "import numpy as np\n",
    "\n",
    "# Khai báo các điểm cho elip (thay bằng tọa độ thực tế của bạn)\n",
    "diem = [\n",
    "    (1, 0),    # Điểm 1\n",
    "    (-1, 0),   # Điểm 2\n",
    "    (0, 1),    # Điểm 3\n",
    "    (0, -1),   # Điểm 4 (giả định)\n",
    "    (2, 0)     # Điểm 5 (giả định)\n",
    "]\n",
    "\n",
    "# Hàm tạo ma trận hệ phương trình cho elip\n",
    "def tao_he_phuong_trinh(danh_sach_diem):\n",
    "    ma_tran_A = []\n",
    "    vector_b = []\n",
    "    for x, y in danh_sach_diem:\n",
    "        # Phương trình elip: x^2/a^2 + y^2/b^2 = 1\n",
    "        # Chuyển thành dạng tuyến tính: x^2*p + y^2*q = 1 (với p = 1/a^2, q = 1/b^2)\n",
    "        ma_tran_A.append([x**2, y**2])\n",
    "        vector_b.append(1)\n",
    "    return np.array(ma_tran_A), np.array(vector_b)\n",
    "\n",
    "# Hàm giải hệ phương trình để tìm p và q\n",
    "def giai_he_phuong_trinh(ma_tran_A, vector_b):\n",
    "    # Sử dụng phương pháp bình phương nhỏ nhất (least squares) để giải\n",
    "    # Vì có thể có hơn 2 phương trình (5 điểm), ta cần tối ưu\n",
    "    x, residuals, rank, s = np.linalg.lstsq(ma_tran_A, vector_b, rcond=None)\n",
    "    return x  # x[0] là p = 1/a^2, x[1] là q = 1/b^2\n",
    "\n",
    "# Hàm tính phương trình elip\n",
    "def tim_phuong_trinh_elip(danh_sach_diem):\n",
    "    # Tạo ma trận và vector\n",
    "    A, b = tao_he_phuong_trinh(danh_sach_diem)\n",
    "    \n",
    "    # Giải hệ phương trình\n",
    "    ket_qua = giai_he_phuong_trinh(A, b)\n",
    "    p = ket_qua[0]  # 1/a^2\n",
    "    q = ket_qua[1]  # 1/b^2\n",
    "    \n",
    "    # Tính a^2 và b^2\n",
    "    a_binh_phuong = 1 / p if p != 0 else float('inf')\n",
    "    b_binh_phuong = 1 / q if q != 0 else float('inf')\n",
    "    \n",
    "    # Kiểm tra và in kết quả\n",
    "    print(f\"Giá trị p (1/a^2): {p}\")\n",
    "    print(f\"Giá trị q (1/b^2): {q}\")\n",
    "    print(f\"a^2 = {a_binh_phuong}\")\n",
    "    print(f\"b^2 = {b_binh_phuong}\")\n",
    "    print(f\"Phương trình elip: x^2/{a_binh_phuong} + y^2/{b_binh_phuong} = 1\")\n",
    "    \n",
    "    # Kiểm tra các điểm có thỏa mãn không\n",
    "    for x, y in diem:\n",
    "        gia_tri = (x**2 / a_binh_phuong) + (y**2 / b_binh_phuong)\n",
    "        print(f\"Điểm ({x}, {y}): {gia_tri} (nên gần 1 nếu đúng)\")\n",
    "\n",
    "# Chạy chương trình\n",
    "print(\"Giải phương trình elip qua 5 điểm:\")\n",
    "tim_phuong_trinh_elip(diem)"
   ]
  }
 ],
 "metadata": {
  "kernelspec": {
   "display_name": "Python 3",
   "language": "python",
   "name": "python3"
  },
  "language_info": {
   "codemirror_mode": {
    "name": "ipython",
    "version": 3
   },
   "file_extension": ".py",
   "mimetype": "text/x-python",
   "name": "python",
   "nbconvert_exporter": "python",
   "pygments_lexer": "ipython3",
   "version": "3.10.11"
  }
 },
 "nbformat": 4,
 "nbformat_minor": 2
}
