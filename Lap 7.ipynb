{
 "cells": [
  {
   "cell_type": "markdown",
   "metadata": {},
   "source": [
    "### CHƯƠNG 7: KHÔNG GIAN VECTOR VÀ ÁNH XẠ TUYẾN TÍNH (PHẦN 1) "
   ]
  },
  {
   "cell_type": "markdown",
   "metadata": {},
   "source": [
    "##### 1. Giới thiệu một số ứng dụng của tích vector (dot product) "
   ]
  },
  {
   "cell_type": "code",
   "execution_count": 1,
   "metadata": {},
   "outputs": [
    {
     "data": {
      "text/plain": [
       "array([ 1,  5, 30])"
      ]
     },
     "execution_count": 1,
     "metadata": {},
     "output_type": "execute_result"
    }
   ],
   "source": [
    "# Tính tích vô hướng giữa từng hàng của ma trận và một vector\n",
    "import numpy as np\n",
    "\n",
    "# Khai báo ma trận A và vector V\n",
    "signals = np.array([[1, 2], [3, 4], [10, 0]])\n",
    "sample = np.array([3, -1])\n",
    "\n",
    "# Tính tích vô hướng từng hàng với vector mẫu\n",
    "result = np.inner(signals, sample)\n",
    "result\n"
   ]
  },
  {
   "cell_type": "markdown",
   "metadata": {},
   "source": [
    "#### 1.1.Ứng dụng 1 – Nguyên lý tìm nốt nhạc trong chuỗi âm thanh (Audio search) \n"
   ]
  },
  {
   "cell_type": "code",
   "execution_count": 2,
   "metadata": {},
   "outputs": [
    {
     "data": {
      "text/plain": [
       "((10, 3),\n",
       " array([[ 0,  0, -1],\n",
       "        [ 0, -1,  2],\n",
       "        [-1,  2,  3],\n",
       "        [ 2,  3, -1],\n",
       "        [ 3, -1,  0],\n",
       "        [-1,  0,  1],\n",
       "        [ 0,  1, -1],\n",
       "        [ 1, -1, -1]]),\n",
       " array([ 1, -3, -1,  4, -1, -1,  2,  0]),\n",
       " [(6, array([ 0,  1, -1]))])"
      ]
     },
     "execution_count": 2,
     "metadata": {},
     "output_type": "execute_result"
    }
   ],
   "source": [
    "import numpy as np\n",
    "\n",
    "# Dữ liệu đầu vào\n",
    "A = np.array([0, 0, -1, 2, 3, -1, 0, 1, -1, -1])\n",
    "search_vector = np.array([0, 1, -1])\n",
    "\n",
    "# Kích thước\n",
    "len_A = len(A)\n",
    "len_search = len(search_vector)\n",
    "\n",
    "# Tạo ma trận B từ vector A theo sliding window\n",
    "B = np.array([A[i:i+len_search] for i in range(len_A - len_search + 1)])\n",
    "\n",
    "# Tính tích vô hướng giữa từng hàng của B với search_vector\n",
    "C = np.inner(B, search_vector)\n",
    "\n",
    "# Tìm các vị trí khớp với search_vector\n",
    "matches = []\n",
    "target = np.inner(search_vector, search_vector)\n",
    "\n",
    "for i in range(len(C)):\n",
    "    if C[i] == target:\n",
    "        matches.append((i, B[i]))\n",
    "\n",
    "(len_A, len_search), B, C, matches\n"
   ]
  },
  {
   "cell_type": "markdown",
   "metadata": {},
   "source": [
    "#### 1.2.Ứng dụng 2 – Tạo ảnh mẫu và làm mờ ảnh "
   ]
  },
  {
   "cell_type": "code",
   "execution_count": 7,
   "metadata": {},
   "outputs": [
    {
     "name": "stdout",
     "output_type": "stream",
     "text": [
      "Ảnh đã được làm mờ và lưu tại: D:\\Đại sô tuyến tính\\lap7\\jack_lammo.png\n"
     ]
    }
   ],
   "source": [
    "from PIL import Image, ImageDraw\n",
    "\n",
    "# Mở ảnh gốc\n",
    "input_image = Image.open('D:\\Đại sô tuyến tính\\lap7\\jack.png')\n",
    "input_pixels = input_image.load()  # đọc điểm ảnh (pixel)\n",
    "\n",
    "# Bộ lọc làm mờ 3x3 (box blur)\n",
    "box_kernel = [[1/9, 1/9, 1/9],\n",
    "              [1/9, 1/9, 1/9],\n",
    "              [1/9, 1/9, 1/9]]\n",
    "\n",
    "kernel = box_kernel\n",
    "offset = len(kernel) // 2  # = 1 (vì kernel 3x3)\n",
    "\n",
    "# Tạo ảnh mới có cùng kích thước với ảnh gốc\n",
    "output_image = Image.new(\"RGB\", input_image.size)\n",
    "draw = ImageDraw.Draw(output_image)\n",
    "\n",
    "# Áp dụng làm mờ\n",
    "for x in range(offset, input_image.width - offset):\n",
    "    for y in range(offset, input_image.height - offset):\n",
    "        acc = [0, 0, 0]  # để cộng dồn giá trị R, G, B\n",
    "        for a in range(len(kernel)):\n",
    "            for b in range(len(kernel)):\n",
    "                xn = x + a - offset\n",
    "                yn = y + b - offset\n",
    "                pixel = input_pixels[xn, yn]\n",
    "                acc[0] += pixel[0] * kernel[a][b]\n",
    "                acc[1] += pixel[1] * kernel[a][b]\n",
    "                acc[2] += pixel[2] * kernel[a][b]\n",
    "        # Ghi điểm ảnh mờ vào ảnh đầu ra\n",
    "        draw.point((x, y), (int(acc[0]), int(acc[1]), int(acc[2])))\n",
    "\n",
    "# Lưu ảnh kết quả\n",
    "output_image.save('D:\\Đại sô tuyến tính\\lap7\\jack_lammo.png')\n",
    "print(\"Ảnh đã được làm mờ và lưu tại: D:\\Đại sô tuyến tính\\lap7\\jack_lammo.png\")\n"
   ]
  },
  {
   "cell_type": "code",
   "execution_count": 1,
   "metadata": {},
   "outputs": [
    {
     "name": "stdout",
     "output_type": "stream",
     "text": [
      "Ảnh đã được làm mờ nhiều lần và lưu tại: jack_lammo.png\n"
     ]
    }
   ],
   "source": [
    "from PIL import Image, ImageDraw\n",
    "\n",
    "def apply_box_blur(image, kernel):\n",
    "    input_pixels = image.load()\n",
    "    offset = len(kernel) // 2\n",
    "    output_image = Image.new(\"RGB\", image.size)\n",
    "    draw = ImageDraw.Draw(output_image)\n",
    "\n",
    "    for x in range(offset, image.width - offset):\n",
    "        for y in range(offset, image.height - offset):\n",
    "            acc = [0, 0, 0]\n",
    "            for a in range(len(kernel)):\n",
    "                for b in range(len(kernel)):\n",
    "                    xn = x + a - offset\n",
    "                    yn = y + b - offset\n",
    "                    pixel = input_pixels[xn, yn]\n",
    "                    acc[0] += pixel[0] * kernel[a][b]\n",
    "                    acc[1] += pixel[1] * kernel[a][b]\n",
    "                    acc[2] += pixel[2] * kernel[a][b]\n",
    "            draw.point((x, y), (int(acc[0]), int(acc[1]), int(acc[2])))\n",
    "\n",
    "    return output_image\n",
    "\n",
    "# Mở ảnh gốc\n",
    "input_image = Image.open(r'D:\\Đại sô tuyến tính\\lap7\\jack.png').convert(\"RGB\")\n",
    "\n",
    "# Kernel box blur 3x3\n",
    "box_kernel = [[1/9, 1/9, 1/9],\n",
    "              [1/9, 1/9, 1/9],\n",
    "              [1/9, 1/9, 1/9]]\n",
    "\n",
    "# Làm mờ nhiều lần\n",
    "blurred_image = input_image\n",
    "for i in range(3):  # Lặp 3 lần để mờ hơn, có thể tăng lên 5–7 lần nếu muốn\n",
    "    blurred_image = apply_box_blur(blurred_image, box_kernel)\n",
    "\n",
    "# Lưu ảnh kết quả\n",
    "blurred_image.save(r'D:\\Đại sô tuyến tính\\lap7\\jack_lammo.png')\n",
    "print(\"Ảnh đã được làm mờ nhiều lần và lưu tại: jack_lammo.png\")\n"
   ]
  },
  {
   "cell_type": "markdown",
   "metadata": {},
   "source": [
    "#### BÀI TẬP CHƯƠNG 7 "
   ]
  },
  {
   "cell_type": "code",
   "execution_count": 8,
   "metadata": {},
   "outputs": [
    {
     "name": "stdout",
     "output_type": "stream",
     "text": [
      "Ma trận kernel Gaussian:\n",
      "[[0.00390625 0.015625   0.0234375  0.015625   0.00390625]\n",
      " [0.015625   0.0625     0.09375    0.0625     0.015625  ]\n",
      " [0.0234375  0.09375    0.140625   0.09375    0.0234375 ]\n",
      " [0.015625   0.0625     0.09375    0.0625     0.015625  ]\n",
      " [0.00390625 0.015625   0.0234375  0.015625   0.00390625]]\n"
     ]
    }
   ],
   "source": [
    "import numpy as np\n",
    "\n",
    "# Định nghĩa ma trận kernel Gaussian\n",
    "# Đây là ma trận 5x5 bạn đã cung cấp, được chuẩn hóa\n",
    "gaussian_kernel = np.array([\n",
    "    [1, 4, 6, 4, 1],\n",
    "    [4, 16, 24, 16, 4],\n",
    "    [6, 24, 36, 24, 6],\n",
    "    [4, 16, 24, 16, 4],\n",
    "    [1, 4, 6, 4, 1]\n",
    "], dtype=np.float32) / 256.0\n",
    "\n",
    "# Nếu bạn đang sử dụng một framework hoặc thư viện yêu cầu bạn cung cấp kernel,\n",
    "# bạn sẽ sử dụng 'gaussian_kernel' này thay cho 'box_kernel' hiện có.\n",
    "\n",
    "print(\"Ma trận kernel Gaussian:\")\n",
    "print(gaussian_kernel)"
   ]
  },
  {
   "cell_type": "code",
   "execution_count": 9,
   "metadata": {},
   "outputs": [
    {
     "name": "stdout",
     "output_type": "stream",
     "text": [
      "Ma trận kernel a:\n",
      "[[ 0. -1.  0.]\n",
      " [-1.  4. -1.]\n",
      " [ 0. -1.  0.]]\n",
      "\n",
      "Ma trận kernel b:\n",
      "[[-1. -1. -1.]\n",
      " [-1.  8. -1.]\n",
      " [-1. -1. -1.]]\n"
     ]
    }
   ],
   "source": [
    "import numpy as np\n",
    "\n",
    "# a. Ma trận kernel \"rút xương\" thứ nhất\n",
    "kernel_a = np.array([\n",
    "    [0, -1, 0],\n",
    "    [-1, 4, -1],\n",
    "    [0, -1, 0]\n",
    "], dtype=np.float32)\n",
    "\n",
    "# b. Ma trận kernel \"rút xương\" thứ hai\n",
    "kernel_b = np.array([\n",
    "    [-1, -1, -1],\n",
    "    [-1, 8, -1],\n",
    "    [-1, -1, -1]\n",
    "], dtype=np.float32)\n",
    "\n",
    "print(\"Ma trận kernel a:\")\n",
    "print(kernel_a)\n",
    "\n",
    "print(\"\\nMa trận kernel b:\")\n",
    "print(kernel_b)\n"
   ]
  }
 ],
 "metadata": {
  "kernelspec": {
   "display_name": "Python 3",
   "language": "python",
   "name": "python3"
  },
  "language_info": {
   "codemirror_mode": {
    "name": "ipython",
    "version": 3
   },
   "file_extension": ".py",
   "mimetype": "text/x-python",
   "name": "python",
   "nbconvert_exporter": "python",
   "pygments_lexer": "ipython3",
   "version": "3.10.11"
  }
 },
 "nbformat": 4,
 "nbformat_minor": 2
}
