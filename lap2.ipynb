{
 "cells": [
  {
   "cell_type": "markdown",
   "metadata": {},
   "source": [
    "# BT CHƯƠNG\n"
   ]
  },
  {
   "cell_type": "markdown",
   "metadata": {},
   "source": [
    "## 1. Dẫn nhập – Một số hàm về xử lý vector với Python\n",
    "Trong bài trước, chúng ta thấy rằng chỉ đơn thuần Python có thể hỗ trợ cài đặt các phép xử lý cơ\n",
    "bản cho vector. Dưới đây, chúng ta tổng kết việc xử lý vector thông qua 4 hàm cơ bản:\n",
    "Hàm “scale” tỉ số vector bằng một giá trị thực\n",
    "\n"
   ]
  },
  {
   "cell_type": "code",
   "execution_count": 1,
   "metadata": {},
   "outputs": [
    {
     "name": "stdout",
     "output_type": "stream",
     "text": [
      "Requirement already satisfied: numpy in c:\\users\\admin\\appdata\\local\\packages\\pythonsoftwarefoundation.python.3.10_qbz5n2kfra8p0\\localcache\\local-packages\\python310\\site-packages (1.24.3)\n"
     ]
    },
    {
     "name": "stderr",
     "output_type": "stream",
     "text": [
      "\n",
      "[notice] A new release of pip is available: 23.2.1 -> 25.1.1\n",
      "[notice] To update, run: C:\\Users\\Admin\\AppData\\Local\\Microsoft\\WindowsApps\\PythonSoftwareFoundation.Python.3.10_qbz5n2kfra8p0\\python.exe -m pip install --upgrade pip\n"
     ]
    }
   ],
   "source": [
    "!pip install numpy\n"
   ]
  },
  {
   "cell_type": "code",
   "execution_count": 1,
   "metadata": {},
   "outputs": [
    {
     "name": "stdout",
     "output_type": "stream",
     "text": [
      "[30, 50, 70]\n"
     ]
    }
   ],
   "source": [
    "def scale(a, v):\n",
    "    return [a * vi for vi in v]\n",
    "v = [3, 5, 7]\n",
    "print(scale(10, v))"
   ]
  },
  {
   "cell_type": "markdown",
   "metadata": {},
   "source": [
    "## Hàm lấy tổng hai vector:"
   ]
  },
  {
   "cell_type": "code",
   "execution_count": 2,
   "metadata": {},
   "outputs": [
    {
     "name": "stdout",
     "output_type": "stream",
     "text": [
      "[5, 9, 13]\n"
     ]
    }
   ],
   "source": [
    "def sumvector(v, w):\n",
    "        return [vi + wi for (vi, wi) in zip(v, w)]\n",
    "v = [3, 5, 7]\n",
    "w = [2, 4, 6]\n",
    "print(sumvector(v, w))"
   ]
  },
  {
   "cell_type": "markdown",
   "metadata": {},
   "source": [
    "## Hàm nhân 2 vector vô hướng"
   ]
  },
  {
   "cell_type": "code",
   "execution_count": 3,
   "metadata": {},
   "outputs": [
    {
     "name": "stdout",
     "output_type": "stream",
     "text": [
      "68\n"
     ]
    }
   ],
   "source": [
    "def dotvector(v, w):\n",
    "    return sum([vi * wi for (vi, wi) in zip(v, w)])\n",
    "v = [3, 5, 7]\n",
    "w = [2, 4, 6]\n",
    "\n",
    "print(dotvector(v, w))"
   ]
  },
  {
   "cell_type": "markdown",
   "metadata": {},
   "source": [
    "## Hàm tính chiều dài một vector:"
   ]
  },
  {
   "cell_type": "code",
   "execution_count": 4,
   "metadata": {},
   "outputs": [
    {
     "name": "stdout",
     "output_type": "stream",
     "text": [
      "56\n"
     ]
    }
   ],
   "source": [
    "def lenvector(v):\n",
    "    return dotvector(v, v)\n",
    "v = [3, 5, 7]\n",
    "w = [2, 4, 6]\n",
    "print(lenvector(w))\n",
    "\n"
   ]
  },
  {
   "cell_type": "markdown",
   "metadata": {},
   "source": [
    "## 2. Bài toán ứng dụng 1 – Phân loại tuyến tính"
   ]
  },
  {
   "cell_type": "code",
   "execution_count": 5,
   "metadata": {},
   "outputs": [
    {
     "name": "stdout",
     "output_type": "stream",
     "text": [
      "scores = [-1  1  2 -3  5 -4]\n",
      "scores >= 0: [False  True  True False  True False]\n",
      "scores < 0: [ True False False  True False  True]\n",
      "Phân loại: ['so am' 'so duong' 'so duong' 'so am' 'so duong' 'so am']\n"
     ]
    }
   ],
   "source": [
    "import numpy as np\n",
    "\n",
    "# Tạo mảng điểm số\n",
    "scores = np.array([-1, 1, 2, -3, 5, -4])\n",
    "print(\"scores =\", scores)\n",
    "\n",
    "# Kiểm tra điều kiện điểm >= 0\n",
    "print(\"scores >= 0:\", scores >= 0)\n",
    "\n",
    "# Kiểm tra điều kiện điểm < 0\n",
    "print(\"scores < 0:\", scores < 0)\n",
    "\n",
    "# Phân loại tuyến tính: số âm hoặc số dương\n",
    "labels = np.select([scores >= 0, scores < 0], ['so duong', 'so am'])\n",
    "print(\"Phân loại:\", labels)\n"
   ]
  },
  {
   "cell_type": "code",
   "execution_count": 1,
   "metadata": {},
   "outputs": [
    {
     "name": "stdout",
     "output_type": "stream",
     "text": [
      "Mảng scores: [-1  1  2  0 -3  5  0 -4]\n",
      "Kết quả phân loại: ['so am' 'so duong' 'so duong' 'so 0' 'so am' 'so duong' 'so 0' 'so am']\n"
     ]
    }
   ],
   "source": [
    "import numpy as np\n",
    "\n",
    "# Tạo mảng điểm số\n",
    "scores = np.array([-1, 1, 2, 0, -3, 5, 0, -4])\n",
    "print(\"Mảng scores:\", scores)\n",
    "\n",
    "# Phân loại giá trị: > 0, == 0, < 0\n",
    "labels = np.select(\n",
    "    [scores > 0, scores == 0, scores < 0],\n",
    "    ['so duong', 'so 0', 'so am']\n",
    ")\n",
    "\n",
    "# In kết quả phân loại\n",
    "print(\"Kết quả phân loại:\", labels)\n"
   ]
  },
  {
   "cell_type": "markdown",
   "metadata": {},
   "source": [
    "# 3. Thực hành xử lý ma trận\n",
    "3.1 Cơ bản xử lý ma trận\n"
   ]
  },
  {
   "cell_type": "code",
   "execution_count": 2,
   "metadata": {},
   "outputs": [
    {
     "name": "stdout",
     "output_type": "stream",
     "text": [
      "[[3 4]\n",
      " [5 6]]\n"
     ]
    }
   ],
   "source": [
    "import numpy as np\n",
    "from scipy import linalg, sparse\n",
    "\n",
    "D = np.mat([[3, 4], [5, 6]])\n",
    "print(D)\n"
   ]
  },
  {
   "cell_type": "code",
   "execution_count": 6,
   "metadata": {},
   "outputs": [
    {
     "name": "stdout",
     "output_type": "stream",
     "text": [
      "STT 2 – Ma trận D:\n",
      "[[3 4]\n",
      " [5 6]]\n",
      "\n",
      "STT 3 – Ma trận C (5x7, ngẫu nhiên):\n",
      "[[0.41701535 0.99249242 0.36961277 0.6355932  0.52853638 0.3915227\n",
      "  0.94330169]\n",
      " [0.28669021 0.05666467 0.84954907 0.4653502  0.71194677 0.06574738\n",
      "  0.39120567]\n",
      " [0.25038986 0.57486085 0.63757699 0.70699374 0.9088593  0.79884206\n",
      "  0.98419772]\n",
      " [0.93393421 0.99091529 0.63613661 0.42291542 0.15081104 0.2483032\n",
      "  0.28640223]\n",
      " [0.40025524 0.65317769 0.77872217 0.2360966  0.07078927 0.12823753\n",
      "  0.75122687]]\n",
      "\n",
      "STT 4 – Ma trận A (2x2, ngẫu nhiên):\n",
      "[[0.55900786 0.64443311]\n",
      " [0.34788323 0.83995941]]\n",
      "\n",
      "STT 5 – Mảng b:\n",
      "[[1.+5.j 0.+2.j 0.+3.j]\n",
      " [4.+6.j 5.+0.j 6.+0.j]]\n",
      "\n",
      "STT 5 – Ma trận B (từ asmatrix):\n",
      "[[1.+5.j 0.+2.j 0.+3.j]\n",
      " [4.+6.j 5.+0.j 6.+0.j]]\n",
      "\n",
      "STT 5 – Chuyển vị của ma trận A:\n",
      "[[0.55900786 0.34788323]\n",
      " [0.64443311 0.83995941]]\n",
      "STT 6 – Ma trận nghịch đảo của A (A.I):\n",
      "[[ 3.42342515 -2.62651799]\n",
      " [-1.41786875  2.27835005]]\n",
      "\n",
      "STT 7 – Nghịch đảo của ma trận M (dùng linalg.inv):\n",
      "[[-0.125  2.     0.875]\n",
      " [ 0.125 -0.     0.125]\n",
      " [ 0.25   1.     0.25 ]]\n",
      "\n",
      "STT 8 – Tam giác dưới của M:\n",
      "[[-1  0  0]\n",
      " [ 0 -2  0]\n",
      " [ 1  5 -2]]\n",
      "\n",
      "STT 9 – Tam giác trên của M:\n",
      "[[-1  3  2]\n",
      " [ 0 -2  1]\n",
      " [ 0  0 -2]]\n",
      "STT 10 – Vector đường chéo của M:\n",
      "[-1 -2 -2]\n",
      "\n",
      "STT 10 – Ma trận đường chéo tạo từ vector:\n",
      "[[-1  0  0]\n",
      " [ 0 -2  0]\n",
      " [ 0  0 -2]]\n"
     ]
    }
   ],
   "source": [
    "# 1: Nạp thư viện\n",
    "import numpy as np\n",
    "from scipy import linalg, sparse  # nạp các module đại số tuyến tính và ma trận thưa\n",
    "\n",
    "# 2: Tạo ma trận D với giá trị cụ thể\n",
    "D = np.mat([[3, 4], [5, 6]])\n",
    "print(\"STT 2 – Ma trận D:\")\n",
    "print(D)\n",
    "\n",
    "# 3: Tạo ma trận C ngẫu nhiên kích thước 5x7\n",
    "C = np.mat(np.random.random((5, 7)))\n",
    "print(\"\\nSTT 3 – Ma trận C (5x7, ngẫu nhiên):\")\n",
    "print(C)\n",
    "\n",
    "# 4: Tạo ma trận A ngẫu nhiên kích thước 2x2\n",
    "A = np.mat(np.random.random((2, 2)))\n",
    "print(\"\\nSTT 4 – Ma trận A (2x2, ngẫu nhiên):\")\n",
    "print(A)\n",
    "\n",
    "# 5: Tạo mảng số phức và chuyển thành ma trận\n",
    "b = np.array([\n",
    "    [1 + 5j, 2j, 3j],\n",
    "    [4 + 6j, 5 + 0j, 6]\n",
    "])\n",
    "B = np.asmatrix(b)\n",
    "\n",
    "print(\"\\nSTT 5 – Mảng b:\")\n",
    "print(b)\n",
    "\n",
    "print(\"\\nSTT 5 – Ma trận B (từ asmatrix):\")\n",
    "print(B)\n",
    "\n",
    "# In chuyển vị của ma trận A (STT 4)\n",
    "print(\"\\nSTT 5 – Chuyển vị của ma trận A:\")\n",
    "print(A.T)\n",
    "\n",
    "\n",
    "\n",
    "#  6: Tính ma trận nghịch đảo A (nếu đã có A từ STT 4)\n",
    "print(\"STT 6 – Ma trận nghịch đảo của A (A.I):\")\n",
    "print(A.I)  # A là ma trận từ np.mat\n",
    "\n",
    "# 7: Sử dụng linalg.inv để tính nghịch đảo của ma trận thường (array)\n",
    "M = np.array([[-1, 3, 2], [0, -2, 1], [1, 5, -2]])\n",
    "\n",
    "print(\"\\nSTT 7 – Nghịch đảo của ma trận M (dùng linalg.inv):\")\n",
    "M_inv = linalg.inv(M)\n",
    "print(M_inv)\n",
    "\n",
    "#  8: Lấy phần tam giác dưới của ma trận M\n",
    "M_lower = np.tril(M)\n",
    "print(\"\\nSTT 8 – Tam giác dưới của M:\")\n",
    "print(M_lower)\n",
    "\n",
    "# 9: Lấy phần tam giác trên của ma trận M\n",
    "M_upper = np.triu(M)\n",
    "print(\"\\nSTT 9 – Tam giác trên của M:\")\n",
    "print(M_upper)\n",
    "\n",
    "#✅ STT 10 – Trích xuất và tạo ma trận đường chéo\n",
    "\n",
    "\n",
    "\n",
    "# M đã được khai báo ở STT trước:\n",
    "M = np.array([[-1, 3, 2], [0, -2, 1], [1, 5, -2]])\n",
    "\n",
    "# Lấy vector đường chéo chính của ma trận M\n",
    "v_diag = np.diag(M)\n",
    "print(\"STT 10 – Vector đường chéo của M:\")\n",
    "print(v_diag)\n",
    "\n",
    "# Tạo ma trận đường chéo từ vector v_diag\n",
    "M_diag = np.diag(v_diag)\n",
    "print(\"\\nSTT 10 – Ma trận đường chéo tạo từ vector:\")\n",
    "print(M_diag)\n",
    "\n",
    "\n"
   ]
  },
  {
   "cell_type": "code",
   "execution_count": 7,
   "metadata": {},
   "outputs": [
    {
     "name": "stdout",
     "output_type": "stream",
     "text": [
      "[(2, 7, -1)]\n"
     ]
    }
   ],
   "source": [
    "import sympy as sp\n",
    "\n",
    "# Khai báo biến\n",
    "x = sp.Symbol('x')\n",
    "y = sp.Symbol('y')\n",
    "z = sp.Symbol('z')\n",
    "\n",
    "# Giải hệ phương trình\n",
    "solution = sp.solve([\n",
    "    x**2 + 2 - 6,     # x^2 + 2 = 6\n",
    "    y - 1 - 6,        # y - 1 = 6\n",
    "    x + z - 1,        # x + z = 1\n",
    "    2 * x**2 - 8,     # 2x^2 = 8\n",
    "    z**2 + 4 - 5,     # z^2 + 4 = 5\n",
    "    y - z - 8         # y - z = 8\n",
    "], [x, y, z])\n",
    "\n",
    "print(solution)\n"
   ]
  },
  {
   "cell_type": "markdown",
   "metadata": {},
   "source": [
    "# 3.2. Các phép biến đổi sơ cấp trên ma trận"
   ]
  },
  {
   "cell_type": "code",
   "execution_count": 9,
   "metadata": {},
   "outputs": [
    {
     "name": "stdout",
     "output_type": "stream",
     "text": [
      "Ma trận A:\n",
      "[[ 0.  1.  2.  3.  4.  5.]\n",
      " [ 6.  7.  8.  9. 10. 11.]\n",
      " [12. 13. 14. 15. 16. 17.]\n",
      " [18. 19. 20. 21. 22. 23.]\n",
      " [24. 25. 26. 27. 28. 29.]\n",
      " [30. 31. 32. 33. 34. 35.]]\n",
      "\n",
      "Ma trận đơn vị I6:\n",
      "[[1. 0. 0. 0. 0. 0.]\n",
      " [0. 1. 0. 0. 0. 0.]\n",
      " [0. 0. 1. 0. 0. 0.]\n",
      " [0. 0. 0. 1. 0. 0.]\n",
      " [0. 0. 0. 0. 1. 0.]\n",
      " [0. 0. 0. 0. 0. 1.]]\n",
      "Kích thước (số phần tử) của A: 36\n",
      "Đường chéo của A: [ 0.  7. 14. 21. 28. 35.]\n",
      "Ma trận A mới sau khi cộng với I6:\n",
      "[[ 1.  1.  2.  3.  4.  5.]\n",
      " [ 6.  8.  8.  9. 10. 11.]\n",
      " [12. 13. 15. 15. 16. 17.]\n",
      " [18. 19. 20. 22. 22. 23.]\n",
      " [24. 25. 26. 27. 29. 29.]\n",
      " [30. 31. 32. 33. 34. 36.]]\n"
     ]
    }
   ],
   "source": [
    "import numpy as np\n",
    "\n",
    "# Tạo ma trận A kích thước 6x6 với các giá trị từ 0 đến 35\n",
    "A = np.reshape(np.arange(36.0), (6, 6))\n",
    "print(\"Ma trận A:\")\n",
    "print(A)\n",
    "\n",
    "# Tạo ma trận đơn vị kích thước 6x6\n",
    "I6 = np.identity(6)\n",
    "print(\"\\nMa trận đơn vị I6:\")\n",
    "print(I6)\n",
    "\n",
    "# Tạo ma trận A kích thước 6x6\n",
    "A = np.reshape(np.arange(36.0), (6, 6))\n",
    "\n",
    "# Tạo ma trận đơn vị I6\n",
    "I6 = np.identity(6)\n",
    "\n",
    "# Kiểm tra số phần tử trong A\n",
    "print(\"Kích thước (số phần tử) của A:\", A.size)\n",
    "\n",
    "# In đường chéo chính của A\n",
    "print(\"Đường chéo của A:\", np.diagonal(A))\n",
    "\n",
    "# Cộng A với ma trận đơn vị\n",
    "A = A + I6\n",
    "print(\"Ma trận A mới sau khi cộng với I6:\")\n",
    "print(A)\n",
    "\n"
   ]
  },
  {
   "cell_type": "markdown",
   "metadata": {},
   "source": [
    "Tính tích (nhân) ma trận với vector (là dạng ma trận đặc biệt)\n"
   ]
  },
  {
   "cell_type": "code",
   "execution_count": 12,
   "metadata": {},
   "outputs": [
    {
     "name": "stdout",
     "output_type": "stream",
     "text": [
      "Ma trận A:\n",
      "[[ 1  2  3  4  5  6]\n",
      " [ 7  8  9 10 11 12]\n",
      " [13 14 15 16 17 18]\n",
      " [19 20 21 22 23 24]\n",
      " [25 26 27 28 29 30]\n",
      " [31 32 33 34 35 36]]\n",
      "\n",
      "Vector vecB:\n",
      "[1. 2. 3. 4. 5. 6.]\n",
      "\n",
      "Kết quả C = A.dot(vecB):\n",
      "[ 91. 217. 343. 469. 595. 721.]\n"
     ]
    }
   ],
   "source": [
    "import numpy as np\n",
    "\n",
    "# Tạo ma trận A kích thước 6x6\n",
    "A = np.reshape(np.arange(1, 37), (6, 6))  # Ma trận từ 1 đến 36\n",
    "\n",
    "# Tạo vector vecB\n",
    "vecB = np.array([1., 2., 3., 4., 5., 6.])\n",
    "\n",
    "# Nhân ma trận A với vecB\n",
    "C = A.dot(vecB)\n",
    "\n",
    "# In kết quả\n",
    "print(\"Ma trận A:\")\n",
    "print(A)\n",
    "print(\"\\nVector vecB:\")\n",
    "print(vecB)\n",
    "print(\"\\nKết quả C = A.dot(vecB):\")\n",
    "print(C)\n"
   ]
  },
  {
   "cell_type": "markdown",
   "metadata": {},
   "source": [
    "Khai báo ma trận D 2x6"
   ]
  },
  {
   "cell_type": "code",
   "execution_count": 11,
   "metadata": {},
   "outputs": [
    {
     "name": "stdout",
     "output_type": "stream",
     "text": [
      "Ma trận D:\n",
      "[[1. 2. 3. 4. 5. 6.]\n",
      " [1. 0. 1. 0. 1. 0.]]\n",
      "\n",
      "Kết quả E = A.dot(D.T):\n",
      "[[ 91.   9.]\n",
      " [217.  27.]\n",
      " [343.  45.]\n",
      " [469.  63.]\n",
      " [595.  81.]\n",
      " [721.  99.]]\n"
     ]
    }
   ],
   "source": [
    "import numpy as np\n",
    "\n",
    "# Tạo ma trận A 6x6\n",
    "A = np.reshape(np.arange(1, 37), (6, 6))\n",
    "\n",
    "# Tạo ma trận D 2x6\n",
    "D = np.array([\n",
    "    [1., 2., 3., 4., 5., 6.],\n",
    "    [1., 0., 1., 0., 1., 0.]\n",
    "])\n",
    "\n",
    "# In ma trận D\n",
    "print(\"Ma trận D:\")\n",
    "print(D)\n",
    "\n",
    "# Tính tích A × D.T (vì A là 6x6, D.T là 6x2 => kết quả là 6x2)\n",
    "E = A.dot(D.T)\n",
    "\n",
    "# In kết quả E\n",
    "print(\"\\nKết quả E = A.dot(D.T):\")\n",
    "print(E)\n"
   ]
  },
  {
   "cell_type": "markdown",
   "metadata": {},
   "source": [
    "Khai báo ma trận D 2x6"
   ]
  },
  {
   "cell_type": "code",
   "execution_count": 10,
   "metadata": {},
   "outputs": [
    {
     "name": "stdout",
     "output_type": "stream",
     "text": [
      "Ma trận F:\n",
      "[[1. 1.]\n",
      " [2. 0.]\n",
      " [3. 1.]\n",
      " [4. 0.]\n",
      " [5. 1.]\n",
      " [6. 0.]]\n",
      "\n",
      "Ma trận A (ví dụ, không có trong đề bài gốc):\n",
      "[[1. 0. 1. 0. 1. 0.]\n",
      " [0. 1. 0. 1. 0. 1.]]\n",
      "\n",
      "Ma trận G (A.dot(F)):\n",
      "[[ 9.  3.]\n",
      " [12.  0.]]\n"
     ]
    }
   ],
   "source": [
    "import numpy as np\n",
    "\n",
    "# 1. Xây dựng ma trận F kích thước 6x2\n",
    "F = np.array([[1., 1.],\n",
    "              [2., 0.],\n",
    "              [3., 1.],\n",
    "              [4., 0.],\n",
    "              [5., 1.],\n",
    "              [6., 0.]])\n",
    "\n",
    "# 3. In ma trận F\n",
    "print(\"Ma trận F:\")\n",
    "print(F)\n",
    "A = np.array([[1., 0., 1., 0., 1., 0.],\n",
    "              [0., 1., 0., 1., 0., 1.]])\n",
    "print(\"\\nMa trận A (ví dụ, không có trong đề bài gốc):\")\n",
    "print(A)\n",
    "\n",
    "# 2. Tính tích vô hướng G = A.dot(F)\n",
    "G = A.dot(F)\n",
    "\n",
    "# 4. In ma trận G\n",
    "print(\"\\nMa trận G (A.dot(F)):\")\n",
    "print(G)\n"
   ]
  },
  {
   "cell_type": "markdown",
   "metadata": {},
   "source": [
    "# 4. Bài toán ứng dụng 2 – Tính toán dãy Fibonacci: Con đường tìm đến tỉ số vàng!"
   ]
  },
  {
   "cell_type": "code",
   "execution_count": 13,
   "metadata": {},
   "outputs": [
    {
     "name": "stdout",
     "output_type": "stream",
     "text": [
      "Các cặp số Fibonacci được tạo ra:\n",
      "[1 1]\n",
      "[2 1]\n",
      "[3 2]\n",
      "[5 3]\n",
      "[8 5]\n",
      "[13  8]\n",
      "[21 13]\n",
      "[34 21]\n",
      "[55 34]\n",
      "[89 55]\n"
     ]
    }
   ],
   "source": [
    "import numpy as np\n",
    "A = np.array([[1, 1],\n",
    "              [1, 0]])\n",
    "\n",
    "b = np.array([1, 0])\n",
    "\n",
    "n = 10\n",
    "\n",
    "print(\"Các cặp số Fibonacci được tạo ra:\")\n",
    "\n",
    "for i in range(n):\n",
    "    b = A.dot(b)\n",
    "    print(b)"
   ]
  },
  {
   "cell_type": "markdown",
   "metadata": {},
   "source": [
    "# 5. Cơ bản về hệ phương trình tuyến tính và ứng dụng minh họa "
   ]
  },
  {
   "cell_type": "code",
   "execution_count": null,
   "metadata": {},
   "outputs": [
    {
     "name": "stdout",
     "output_type": "stream",
     "text": [
      "{x1: x4 + 160, x2: x4 - 80, x3: x4 + 520}\n"
     ]
    }
   ],
   "source": [
    "import sympy as sp\n",
    "from sympy import Symbol, solve\n",
    "\n",
    "\n",
    "x1 = Symbol('x1')\n",
    "x2 = Symbol('x2')\n",
    "x3 = Symbol('x3')\n",
    "x4 = Symbol('x4')\n",
    "\n",
    "\n",
    "pt1 = x4 + 610 - 450 - x1\n",
    "pt2 = x1 + 400 - x2 - 640\n",
    "pt3 = x2 + 600 - x3\n",
    "pt4 = x3 - x4 - 520\n",
    "nghiem = sp.solve((pt1, pt2, pt3, pt4))\n",
    "\n",
    "print(nghiem)\n"
   ]
  },
  {
   "cell_type": "markdown",
   "metadata": {},
   "source": [
    "### BT THỰC HÀNH\n",
    " "
   ]
  },
  {
   "cell_type": "markdown",
   "metadata": {},
   "source": [
    "### CÂU 1\n"
   ]
  },
  {
   "cell_type": "code",
   "execution_count": 1,
   "metadata": {},
   "outputs": [
    {
     "name": "stdout",
     "output_type": "stream",
     "text": [
      "Vấn đề 1: Tìm điểm giao giữa hai đường thẳng trong R^2\n",
      "Điểm giao nhau là: [0. 2.]\n",
      "------------------------------\n",
      "Vấn đề 2: Tìm giao điểm giữa ba mặt phẳng trong R^3\n",
      "Điểm giao nhau là: [3. 1. 2.]\n",
      "------------------------------\n",
      "Vấn đề 3: Tìm các hệ số đa thức thỏa thỏa các nghiệm\n",
      "Các hệ số [a, b, c] là: [ 1. -4.  7.]\n",
      "Đa thức là: p(x) = 1.0000x^2 + -4.0000x + 7.0000\n",
      "------------------------------\n",
      "Vấn đề 4: Tìm các hệ số khi phân rã phân thức\n",
      "Các hệ số [a, b, c] là: [-0.11111111 -0.66666667  1.11111111]\n",
      "Phân rã phân thức là: -0.1111/(x-1) + -0.6667/(x-1)^2 + 1.1111/(x+2)\n",
      "------------------------------\n"
     ]
    }
   ],
   "source": [
    "import numpy as np\n",
    "\n",
    "# Vấn đề 1: Tìm điểm giao giữa hai đường thẳng trong R^2\n",
    "print(\"Vấn đề 1: Tìm điểm giao giữa hai đường thẳng trong R^2\")\n",
    "A1 = np.array([[1, -1], [2, 3]])\n",
    "B1 = np.array([-2, 6])\n",
    "giao_diem_1 = np.linalg.solve(A1, B1)\n",
    "print(f\"Điểm giao nhau là: {giao_diem_1}\")\n",
    "print(\"-\" * 30)\n",
    "\n",
    "# Vấn đề 2: Tìm giao điểm giữa ba mặt phẳng trong R^3\n",
    "print(\"Vấn đề 2: Tìm giao điểm giữa ba mặt phẳng trong R^3\")\n",
    "A2 = np.array([[1, -1, 0], [2, -1, -1], [1, 1, 1]])\n",
    "B2 = np.array([2, 3, 6])\n",
    "giao_diem_2 = np.linalg.solve(A2, B2)\n",
    "print(f\"Điểm giao nhau là: {giao_diem_2}\")\n",
    "print(\"-\" * 30)\n",
    "\n",
    "# Vấn đề 3: Tìm các hệ số đa thức thỏa thỏa các nghiệm\n",
    "print(\"Vấn đề 3: Tìm các hệ số đa thức thỏa thỏa các nghiệm\")\n",
    "A3 = np.array([[1, 1, 1], [4, 2, 1], [9, 3, 1]])\n",
    "B3 = np.array([4, 3, 4])\n",
    "he_so_da_thuc = np.linalg.solve(A3, B3)\n",
    "print(f\"Các hệ số [a, b, c] là: {he_so_da_thuc}\")\n",
    "print(f\"Đa thức là: p(x) = {he_so_da_thuc[0]:.4f}x^2 + {he_so_da_thuc[1]:.4f}x + {he_so_da_thuc[2]:.4f}\")\n",
    "print(\"-\" * 30)\n",
    "\n",
    "# Vấn đề 4: Tìm các hệ đa thức khi phân rã để tính tích phân\n",
    "print(\"Vấn đề 4: Tìm các hệ số khi phân rã phân thức\")\n",
    "A4 = np.array([[1, 0, 1], [1, 1, -2], [-2, 2, 1]])\n",
    "B4 = np.array([1, -3, 0])\n",
    "he_so_phan_thuc = np.linalg.solve(A4, B4)\n",
    "print(f\"Các hệ số [a, b, c] là: {he_so_phan_thuc}\")\n",
    "print(f\"Phân rã phân thức là: {he_so_phan_thuc[0]:.4f}/(x-1) + {he_so_phan_thuc[1]:.4f}/(x-1)^2 + {he_so_phan_thuc[2]:.4f}/(x+2)\")\n",
    "print(\"-\" * 30)"
   ]
  },
  {
   "cell_type": "markdown",
   "metadata": {},
   "source": [
    "### CÂU 2"
   ]
  },
  {
   "cell_type": "code",
   "execution_count": 2,
   "metadata": {},
   "outputs": [
    {
     "name": "stdout",
     "output_type": "stream",
     "text": [
      "Giải các phương trình bằng SymPy:\n",
      "----------------------------------------\n",
      "Vấn đề 1: Tìm điểm giao giữa hai đường thẳng trong R^2\n",
      "Điểm giao nhau (x, y) là: {x: 0, y: 2}\n",
      "----------------------------------------\n",
      "Vấn đề 2: Tìm giao điểm giữa ba mặt phẳng trong R^3\n",
      "Điểm giao nhau (x, y, z) là: {x: 3, y: 1, z: 2}\n",
      "----------------------------------------\n",
      "Vấn đề 3: Tìm các hệ số đa thức thỏa thỏa các nghiệm\n",
      "Các hệ số (a, b, c) là: {a: 1, b: -4, c: 7}\n",
      "Đa thức là: p(x) = 1x^2 + -4x + 7\n",
      "----------------------------------------\n",
      "Vấn đề 4: Tìm các hệ số khi phân rã phân thức\n",
      "Các hệ số (a, b, c) là: {a: -1/9, b: -2/3, c: 10/9}\n",
      "Phân rã phân thức là: -1/9/(x-1) + -2/3/(x-1)^2 + 10/9/(x+2)\n",
      "----------------------------------------\n"
     ]
    }
   ],
   "source": [
    "import sympy\n",
    "\n",
    "# 1. Định nghĩa các biến ký hiệu\n",
    "x, y, z, a, b, c = sympy.symbols('x y z a b c')\n",
    "\n",
    "print(\"Giải các phương trình bằng SymPy:\")\n",
    "print(\"-\" * 40)\n",
    "\n",
    "\n",
    "print(\"Vấn đề 1: Tìm điểm giao giữa hai đường thẳng trong R^2\")\n",
    "eq1_v1 = sympy.Eq(x - y, -2)\n",
    "eq2_v1 = sympy.Eq(2*x + 3*y, 6)\n",
    "solution_v1 = sympy.solve((eq1_v1, eq2_v1), (x, y))\n",
    "print(f\"Điểm giao nhau (x, y) là: {solution_v1}\")\n",
    "print(\"-\" * 40)\n",
    "\n",
    "\n",
    "print(\"Vấn đề 2: Tìm giao điểm giữa ba mặt phẳng trong R^3\")\n",
    "eq1_v2 = sympy.Eq(x - y, 2)\n",
    "eq2_v2 = sympy.Eq(2*x - y - z, 3)\n",
    "eq3_v2 = sympy.Eq(x + y + z, 6)\n",
    "solution_v2 = sympy.solve((eq1_v2, eq2_v2, eq3_v2), (x, y, z))\n",
    "print(f\"Điểm giao nhau (x, y, z) là: {solution_v2}\")\n",
    "print(\"-\" * 40)\n",
    "\n",
    "print(\"Vấn đề 3: Tìm các hệ số đa thức thỏa thỏa các nghiệm\")\n",
    "eq1_v3 = sympy.Eq(a + b + c, 4)\n",
    "eq2_v3 = sympy.Eq(4*a + 2*b + c, 3)\n",
    "eq3_v3 = sympy.Eq(9*a + 3*b + c, 4)\n",
    "solution_v3 = sympy.solve((eq1_v3, eq2_v3, eq3_v3), (a, b, c))\n",
    "print(f\"Các hệ số (a, b, c) là: {solution_v3}\")\n",
    "print(f\"Đa thức là: p(x) = {solution_v3[a]}x^2 + {solution_v3[b]}x + {solution_v3[c]}\")\n",
    "print(\"-\" * 40)\n",
    "\n",
    "\n",
    "print(\"Vấn đề 4: Tìm các hệ số khi phân rã phân thức\")\n",
    "eq1_v4 = sympy.Eq(a + c, 1)\n",
    "eq2_v4 = sympy.Eq(a + b - 2*c, -3)\n",
    "eq3_v4 = sympy.Eq(-2*a + 2*b + c, 0)\n",
    "solution_v4 = sympy.solve((eq1_v4, eq2_v4, eq3_v4), (a, b, c))\n",
    "print(f\"Các hệ số (a, b, c) là: {solution_v4}\")\n",
    "print(f\"Phân rã phân thức là: {solution_v4[a]}/(x-1) + {solution_v4[b]}/(x-1)^2 + {solution_v4[c]}/(x+2)\")\n",
    "print(\"-\" * 40)"
   ]
  },
  {
   "cell_type": "markdown",
   "metadata": {},
   "source": [
    "### CÂU 3"
   ]
  },
  {
   "cell_type": "code",
   "execution_count": 5,
   "metadata": {},
   "outputs": [
    {
     "name": "stdout",
     "output_type": "stream",
     "text": [
      "Thử với k = 1:\n",
      "Ma trận F^1:\n",
      "[[1 1]\n",
      " [1 0]]\n",
      "\n",
      "Kiểm tra các phần tử Fibonacci cho k = 1:\n",
      "Fibo_2 = 1\n",
      "Fibo_1 = 1\n",
      "Fibo_0 = 0 (nếu k >= 1)\n",
      "\n",
      "So sánh với các phần tử của ma trận:\n",
      "F^1[0, 0] = 1 (mong đợi Fibo_2)\n",
      "F^1[0, 1] = 1 (mong đợi Fibo_1)\n",
      "F^1[1, 0] = 1 (mong đợi Fibo_1)\n",
      "F^1[1, 1] = 0 (mong đợi Fibo_0)\n",
      "\n",
      "Ma trận F^k chứa đúng các phần tử Fibonacci được mong đợi.\n",
      "\n",
      "==================================================\n",
      "\n",
      "Thử với k = 2:\n",
      "Ma trận F^2:\n",
      "[[2 1]\n",
      " [1 1]]\n",
      "\n",
      "Kiểm tra các phần tử Fibonacci cho k = 2:\n",
      "Fibo_3 = 2\n",
      "Fibo_2 = 1\n",
      "Fibo_1 = 1 (nếu k >= 1)\n",
      "\n",
      "So sánh với các phần tử của ma trận:\n",
      "F^2[0, 0] = 2 (mong đợi Fibo_3)\n",
      "F^2[0, 1] = 1 (mong đợi Fibo_2)\n",
      "F^2[1, 0] = 1 (mong đợi Fibo_2)\n",
      "F^2[1, 1] = 1 (mong đợi Fibo_1)\n",
      "\n",
      "Ma trận F^k chứa đúng các phần tử Fibonacci được mong đợi.\n",
      "\n",
      "==================================================\n",
      "\n",
      "Thử với k = 3:\n",
      "Ma trận F^3:\n",
      "[[3 2]\n",
      " [2 1]]\n",
      "\n",
      "Kiểm tra các phần tử Fibonacci cho k = 3:\n",
      "Fibo_4 = 3\n",
      "Fibo_3 = 2\n",
      "Fibo_2 = 1 (nếu k >= 1)\n",
      "\n",
      "So sánh với các phần tử của ma trận:\n",
      "F^3[0, 0] = 3 (mong đợi Fibo_4)\n",
      "F^3[0, 1] = 2 (mong đợi Fibo_3)\n",
      "F^3[1, 0] = 2 (mong đợi Fibo_3)\n",
      "F^3[1, 1] = 1 (mong đợi Fibo_2)\n",
      "\n",
      "Ma trận F^k chứa đúng các phần tử Fibonacci được mong đợi.\n",
      "\n",
      "==================================================\n",
      "\n",
      "Thử với k = 5:\n",
      "Ma trận F^5:\n",
      "[[8 5]\n",
      " [5 3]]\n",
      "\n",
      "Kiểm tra các phần tử Fibonacci cho k = 5:\n",
      "Fibo_6 = 8\n",
      "Fibo_5 = 5\n",
      "Fibo_4 = 3 (nếu k >= 1)\n",
      "\n",
      "So sánh với các phần tử của ma trận:\n",
      "F^5[0, 0] = 8 (mong đợi Fibo_6)\n",
      "F^5[0, 1] = 5 (mong đợi Fibo_5)\n",
      "F^5[1, 0] = 5 (mong đợi Fibo_5)\n",
      "F^5[1, 1] = 3 (mong đợi Fibo_4)\n",
      "\n",
      "Ma trận F^k chứa đúng các phần tử Fibonacci được mong đợi.\n",
      "\n",
      "==================================================\n",
      "\n",
      "Thử với k = 0:\n",
      "\n",
      "==================================================\n",
      "\n"
     ]
    }
   ],
   "source": [
    "import numpy as np\n",
    "from sympy import Matrix, fibonacci\n",
    "\n",
    "def calculate_fibonacci_matrix_power(k):\n",
    "\n",
    "    if k < 0:\n",
    "        raise ValueError(\"Bậc lũy thừa k phải là số nguyên không âm.\")\n",
    "\n",
    "    F = np.array([[1, 1],\n",
    "                  [1, 0]])\n",
    "\n",
    "    if k == 0:\n",
    "        return np.array([[1, 0], [0, 1]]) # F^0 là ma trận đơn vị\n",
    "\n",
    "    F_k = np.linalg.matrix_power(F, k)\n",
    "\n",
    "    print(f\"Ma trận F^{k}:\")\n",
    "    print(F_k)\n",
    "    print(f\"\\nKiểm tra các phần tử Fibonacci cho k = {k}:\")\n",
    "    try:\n",
    "        fibo_k_plus_1 = fibonacci(k + 1)\n",
    "        fibo_k = fibonacci(k)\n",
    "        fibo_k_minus_1 = fibonacci(k - 1) if k >= 1 else fibonacci(0) # Fibo_{-1} không xác định trong định nghĩa thông thường\n",
    "\n",
    "        print(f\"Fibo_{k+1} = {fibo_k_plus_1}\")\n",
    "        print(f\"Fibo_{k} = {fibo_k}\")\n",
    "        print(f\"Fibo_{k-1} = {fibo_k_minus_1} (nếu k >= 1)\")\n",
    "\n",
    "        print(\"\\nSo sánh với các phần tử của ma trận:\")\n",
    "        print(f\"F^{k}[0, 0] = {F_k[0, 0]} (mong đợi Fibo_{k+1})\")\n",
    "        print(f\"F^{k}[0, 1] = {F_k[0, 1]} (mong đợi Fibo_{k})\")\n",
    "        print(f\"F^{k}[1, 0] = {F_k[1, 0]} (mong đợi Fibo_{k})\")\n",
    "        print(f\"F^{k}[1, 1] = {F_k[1, 1]} (mong đợi Fibo_{k-1})\")\n",
    "\n",
    "        # Xác nhận các phần tử\n",
    "        if F_k[0, 0] == fibo_k_plus_1 and \\\n",
    "           F_k[0, 1] == fibo_k and \\\n",
    "           F_k[1, 0] == fibo_k and \\\n",
    "           F_k[1, 1] == fibo_k_minus_1:\n",
    "            print(\"\\nMa trận F^k chứa đúng các phần tử Fibonacci được mong đợi.\")\n",
    "        else:\n",
    "            print(\"\\nKiểm tra thất bại. Ma trận F^k không chứa các phần tử Fibonacci được mong đợi.\")\n",
    "\n",
    "    except Exception as e:\n",
    "        print(f\"Lỗi khi tính toán hoặc so sánh Fibonacci: {e}\")\n",
    "\n",
    "    return F_k\n",
    "print(\"Thử với k = 1:\")\n",
    "calculate_fibonacci_matrix_power(1)\n",
    "print(\"\\n\" + \"=\"*50 + \"\\n\")\n",
    "\n",
    "print(\"Thử với k = 2:\")\n",
    "calculate_fibonacci_matrix_power(2)\n",
    "print(\"\\n\" + \"=\"*50 + \"\\n\")\n",
    "\n",
    "print(\"Thử với k = 3:\")\n",
    "calculate_fibonacci_matrix_power(3)\n",
    "print(\"\\n\" + \"=\"*50 + \"\\n\")\n",
    "\n",
    "print(\"Thử với k = 5:\")\n",
    "calculate_fibonacci_matrix_power(5)\n",
    "print(\"\\n\" + \"=\"*50 + \"\\n\")\n",
    "\n",
    "print(\"Thử với k = 0:\") # Trường hợp đặc biệt, F^0 là ma trận đơn vị\n",
    "calculate_fibonacci_matrix_power(0)\n",
    "print(\"\\n\" + \"=\"*50 + \"\\n\")"
   ]
  }
 ],
 "metadata": {
  "kernelspec": {
   "display_name": "Python 3",
   "language": "python",
   "name": "python3"
  },
  "language_info": {
   "codemirror_mode": {
    "name": "ipython",
    "version": 3
   },
   "file_extension": ".py",
   "mimetype": "text/x-python",
   "name": "python",
   "nbconvert_exporter": "python",
   "pygments_lexer": "ipython3",
   "version": "3.10.11"
  }
 },
 "nbformat": 4,
 "nbformat_minor": 2
}
